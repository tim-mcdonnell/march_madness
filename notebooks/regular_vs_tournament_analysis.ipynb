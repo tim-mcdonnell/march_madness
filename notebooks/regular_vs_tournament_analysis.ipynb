{
 "cells": [
  {
   "cell_type": "markdown",
   "metadata": {},
   "source": [
    "# NCAA March Madness: Regular Season vs Tournament Performance Analysis\n",
    "\n",
    "## Project Overview\n",
    "\n",
    "This notebook is part of the NCAA March Madness Predictor project's Exploratory Data Analysis (EDA) milestone. We'll investigate the relationship between regular season performance metrics and tournament success to identify which statistics are most predictive of March Madness outcomes.\n",
    "\n",
    "Key questions this analysis will address:\n",
    "\n",
    "1. Which regular season metrics best correlate with tournament advancement?\n",
    "2. How does team performance change from regular season to tournament play?\n",
    "3. Are there teams that consistently over/underperform in tournaments relative to their regular season metrics?\n",
    "4. Which conferences perform better or worse in tournaments relative to regular season expectations?\n",
    "5. Do certain playing styles or statistical profiles perform better in tournament settings?\n",
    "\n",
    "The insights from this analysis will directly inform our feature engineering process and model development."
   ]
  },
  {
   "cell_type": "code",
   "execution_count": 28,
   "metadata": {},
   "outputs": [
    {
     "name": "stderr",
     "output_type": "stream",
     "text": [
      "2025-03-04 08:20:52,015 - INFO - Data directory: ../data\n",
      "2025-03-04 08:20:52,016 - INFO - Processed data directory: ../data/processed\n"
     ]
    },
    {
     "name": "stdout",
     "output_type": "stream",
     "text": [
      "Setup complete. Analyzing data for years 2003-2024\n"
     ]
    }
   ],
   "source": [
    "# Required imports\n",
    "import polars as pl\n",
    "import numpy as np\n",
    "from pathlib import Path\n",
    "import plotly.express as px\n",
    "import plotly.graph_objects as go\n",
    "from plotly.subplots import make_subplots\n",
    "from scipy import stats\n",
    "import logging\n",
    "import warnings\n",
    "\n",
    "# Configure logging\n",
    "logging.basicConfig(level=logging.INFO, format='%(asctime)s - %(levelname)s - %(message)s')\n",
    "logger = logging.getLogger(__name__)\n",
    "\n",
    "# Suppress warnings\n",
    "warnings.filterwarnings('ignore')\n",
    "\n",
    "# Set Plotly display settings for the notebook\n",
    "import plotly.io as pio\n",
    "pio.templates.default = \"plotly_white\"\n",
    "\n",
    "# Define path constants - fixed based on actual project structure\n",
    "# We're in a notebook so we need relative paths to the project root\n",
    "DATA_DIR = Path(\"../data\") if Path(\"../data\").exists() else Path(\"data\")\n",
    "PROCESSED_DATA_DIR = DATA_DIR / \"processed\"\n",
    "RAW_DATA_DIR = DATA_DIR / \"raw\"\n",
    "\n",
    "logger.info(f\"Data directory: {DATA_DIR}\")\n",
    "logger.info(f\"Processed data directory: {PROCESSED_DATA_DIR}\")\n",
    "\n",
    "# Years to analyze\n",
    "YEARS = list(range(2003, 2025))\n",
    "\n",
    "print(f\"Setup complete. Analyzing data for years {YEARS[0]}-{YEARS[-1]}\")"
   ]
  },
  {
   "cell_type": "code",
   "execution_count": 29,
   "metadata": {},
   "outputs": [],
   "source": [
    "def identify_tournament_games(schedules_df):\n",
    "    \"\"\"\n",
    "    Identify NCAA tournament games based on date and specific tournament indicators.\n",
    "    \n",
    "    Args:\n",
    "        schedules_df: Polars DataFrame with schedule data\n",
    "        \n",
    "    Returns:\n",
    "        Polars DataFrame with tournament flag added\n",
    "    \"\"\"\n",
    "    # Make a copy to avoid modifying the original\n",
    "    result_df = schedules_df.clone()\n",
    "    \n",
    "    # Method 1: Check specific string columns for clear tournament indicators\n",
    "    tournament_keywords = [\n",
    "        \"ncaa tournament\", \"march madness\", \"final four\", \"sweet 16\", \n",
    "        \"elite eight\", \"first round\", \"second round\", \"national championship\"\n",
    "    ]\n",
    "    \n",
    "    # Identify string columns more selective than before - focus on columns likely to have tournament info\n",
    "    string_cols = []\n",
    "    tournament_indicator_columns = [\"notes_headline\", \"notes_type\", \"groups_name\", \"type_abbreviation\"]\n",
    "    \n",
    "    for col in schedules_df.columns:\n",
    "        # Only check columns that are likely to contain tournament information\n",
    "        if col in tournament_indicator_columns and schedules_df[col].dtype == pl.Utf8:\n",
    "            string_cols.append(col)\n",
    "    \n",
    "    # If we have any of these columns, use them\n",
    "    if string_cols:\n",
    "        logger.info(f\"Checking specific columns for tournament keywords: {string_cols}\")\n",
    "        \n",
    "        # Start with a column of False values\n",
    "        is_tournament = pl.lit(False)\n",
    "        \n",
    "        # For each string column, check if it contains any tournament keyword\n",
    "        for col in string_cols:\n",
    "            for keyword in tournament_keywords:\n",
    "                # Add condition checking for this keyword in this column\n",
    "                is_tournament = is_tournament | (pl.col(col).str.to_lowercase().str.contains(keyword))\n",
    "        \n",
    "        # Add tournament flag to dataframe\n",
    "        result_df = result_df.with_columns(is_tournament.alias(\"is_tournament\"))\n",
    "    else:\n",
    "        # Method 2: Use date to identify likely tournament games (March/April)\n",
    "        logger.info(\"No specific tournament indicator columns found, using date-based approach\")\n",
    "        \n",
    "        date_col = None\n",
    "        if \"game_date\" in schedules_df.columns:\n",
    "            date_col = \"game_date\"\n",
    "        elif \"date\" in schedules_df.columns:\n",
    "            date_col = \"date\"\n",
    "        \n",
    "        if date_col:\n",
    "            if schedules_df[date_col].dtype == pl.Date:\n",
    "                # Extract month from date\n",
    "                month = pl.col(date_col).dt.month()\n",
    "                \n",
    "                # NCAA tournament games are typically in March (3) and April (4)\n",
    "                # But not all March games are tournament games, so we'll be more selective\n",
    "                \n",
    "                # For March, only consider the later part of the month (after March 15)\n",
    "                is_tournament = (\n",
    "                    ((month == 3) & (pl.col(date_col).dt.day() > 15)) | \n",
    "                    (month == 4)\n",
    "                )\n",
    "                \n",
    "                # Add tournament flag to dataframe\n",
    "                result_df = result_df.with_columns(is_tournament.alias(\"is_tournament\"))\n",
    "            elif schedules_df[date_col].dtype == pl.Utf8:\n",
    "                # If date is a string, extract month using string operations\n",
    "                # Assuming ISO format like \"2023-03-25\" or similar\n",
    "                \n",
    "                # Create month column\n",
    "                month_str = pl.col(date_col).str.slice(5, 2)\n",
    "                day_str = pl.col(date_col).str.slice(8, 2)\n",
    "                \n",
    "                # Mark games in late March (after the 15th) and April as tournament games\n",
    "                is_tournament = (\n",
    "                    ((month_str == \"03\") & (day_str.cast(pl.Int32) > 15)) | \n",
    "                    (month_str == \"04\")\n",
    "                )\n",
    "                \n",
    "                # Add tournament flag to dataframe\n",
    "                result_df = result_df.with_columns(is_tournament.alias(\"is_tournament\"))\n",
    "            else:\n",
    "                logger.warning(f\"Date column {date_col} has unexpected type. Adding default tournament flag (False)\")\n",
    "                result_df = result_df.with_columns(pl.lit(False).alias(\"is_tournament\"))\n",
    "        else:\n",
    "            logger.warning(\"No date or tournament indicator columns found. Adding default tournament flag (False)\")\n",
    "            result_df = result_df.with_columns(pl.lit(False).alias(\"is_tournament\"))\n",
    "    \n",
    "    return result_df"
   ]
  },
  {
   "cell_type": "code",
   "execution_count": 30,
   "metadata": {},
   "outputs": [
    {
     "name": "stderr",
     "output_type": "stream",
     "text": [
      "2025-03-04 08:20:52,037 - INFO - Loading team_box data from ../data/processed/team_box.parquet\n",
      "2025-03-04 08:20:52,047 - INFO - Loaded team box data with 236522 rows and 57 columns\n",
      "2025-03-04 08:20:52,048 - INFO - Loading schedules data from ../data/processed/schedules.parquet\n",
      "2025-03-04 08:20:52,061 - INFO - Loaded schedules data with 130089 rows and 87 columns\n",
      "2025-03-04 08:20:52,062 - INFO - Joining dataframes on 'game_id'\n",
      "2025-03-04 08:20:52,062 - INFO - Checking specific columns for tournament keywords: ['groups_name', 'notes_headline', 'notes_type', 'type_abbreviation']\n",
      "2025-03-04 08:20:52,155 - INFO - Merged data has 236522 rows and 60 columns\n",
      "2025-03-04 08:20:52,156 - INFO - Filtered to specified years: 225644 rows remaining\n"
     ]
    },
    {
     "name": "stdout",
     "output_type": "stream",
     "text": [
      "Available columns in merged dataframe:\n",
      "['assists', 'blocks', 'defensive_rebounds', 'fast_break_points', 'field_goal_pct', 'field_goals_attempted', 'field_goals_made', 'flagrant_fouls', 'fouls', 'free_throw_pct', 'free_throws_attempted', 'free_throws_made', 'game_date', 'game_date_time', 'game_id', 'largest_lead', 'offensive_rebounds', 'opponent_team_abbreviation', 'opponent_team_alternate_color', 'opponent_team_color', 'opponent_team_display_name', 'opponent_team_id', 'opponent_team_location', 'opponent_team_logo', 'opponent_team_name', 'opponent_team_score', 'opponent_team_short_display_name', 'opponent_team_slug', 'opponent_team_uid', 'points_in_paint', 'season', 'season_type', 'steals', 'team_abbreviation', 'team_alternate_color', 'team_color', 'team_display_name', 'team_home_away', 'team_id', 'team_location', 'team_logo', 'team_name', 'team_score', 'team_short_display_name', 'team_slug', 'team_turnovers', 'team_uid', 'team_winner', 'technical_fouls', 'three_point_field_goal_pct', 'three_point_field_goals_attempted', 'three_point_field_goals_made', 'total_rebounds', 'total_technical_fouls', 'total_turnovers', 'turnover_points', 'turnovers', 'is_tournament', 'season_right', 'date']\n"
     ]
    },
    {
     "data": {
      "text/html": [
       "<div><style>\n",
       ".dataframe > thead > tr,\n",
       ".dataframe > tbody > tr {\n",
       "  text-align: right;\n",
       "  white-space: pre-wrap;\n",
       "}\n",
       "</style>\n",
       "<small>shape: (5, 60)</small><table border=\"1\" class=\"dataframe\"><thead><tr><th>assists</th><th>blocks</th><th>defensive_rebounds</th><th>fast_break_points</th><th>field_goal_pct</th><th>field_goals_attempted</th><th>field_goals_made</th><th>flagrant_fouls</th><th>fouls</th><th>free_throw_pct</th><th>free_throws_attempted</th><th>free_throws_made</th><th>game_date</th><th>game_date_time</th><th>game_id</th><th>largest_lead</th><th>offensive_rebounds</th><th>opponent_team_abbreviation</th><th>opponent_team_alternate_color</th><th>opponent_team_color</th><th>opponent_team_display_name</th><th>opponent_team_id</th><th>opponent_team_location</th><th>opponent_team_logo</th><th>opponent_team_name</th><th>opponent_team_score</th><th>opponent_team_short_display_name</th><th>opponent_team_slug</th><th>opponent_team_uid</th><th>points_in_paint</th><th>season</th><th>season_type</th><th>steals</th><th>team_abbreviation</th><th>team_alternate_color</th><th>team_color</th><th>team_display_name</th><th>team_home_away</th><th>team_id</th><th>team_location</th><th>team_logo</th><th>team_name</th><th>team_score</th><th>team_short_display_name</th><th>team_slug</th><th>team_turnovers</th><th>team_uid</th><th>team_winner</th><th>technical_fouls</th><th>three_point_field_goal_pct</th><th>three_point_field_goals_attempted</th><th>three_point_field_goals_made</th><th>total_rebounds</th><th>total_technical_fouls</th><th>total_turnovers</th><th>turnover_points</th><th>turnovers</th><th>is_tournament</th><th>season_right</th><th>date</th></tr><tr><td>i32</td><td>i32</td><td>i32</td><td>str</td><td>f64</td><td>i32</td><td>i32</td><td>i32</td><td>i32</td><td>f64</td><td>i32</td><td>i32</td><td>date</td><td>datetime[μs, America/New_York]</td><td>i32</td><td>str</td><td>i32</td><td>str</td><td>str</td><td>str</td><td>str</td><td>i32</td><td>str</td><td>str</td><td>str</td><td>i32</td><td>str</td><td>str</td><td>str</td><td>str</td><td>i32</td><td>i32</td><td>i32</td><td>str</td><td>str</td><td>str</td><td>str</td><td>str</td><td>i32</td><td>str</td><td>str</td><td>str</td><td>i32</td><td>str</td><td>str</td><td>i32</td><td>str</td><td>bool</td><td>i32</td><td>f64</td><td>i32</td><td>i32</td><td>i32</td><td>i32</td><td>i32</td><td>str</td><td>i32</td><td>bool</td><td>i32</td><td>str</td></tr></thead><tbody><tr><td>7</td><td>3</td><td>20</td><td>null</td><td>35.6</td><td>45</td><td>16</td><td>0</td><td>21</td><td>69.6</td><td>23</td><td>16</td><td>2003-03-10</td><td>2003-03-10 00:00:00 EST</td><td>230682250</td><td>null</td><td>10</td><td>&quot;GONZ&quot;</td><td>&quot;c8102e&quot;</td><td>&quot;041e42&quot;</td><td>&quot;Gonzaga Bulldogs&quot;</td><td>2250</td><td>&quot;Gonzaga&quot;</td><td>&quot;https://a.espncdn.com/i/teamlo…</td><td>&quot;Bulldogs&quot;</td><td>73</td><td>&quot;Gonzaga&quot;</td><td>&quot;gonzaga-bulldogs&quot;</td><td>&quot;s:40~l:41~t:2250&quot;</td><td>null</td><td>2003</td><td>2</td><td>3</td><td>&quot;SMC&quot;</td><td>&quot;003057&quot;</td><td>&quot;d80024&quot;</td><td>&quot;Saint Mary&#x27;s Gaels&quot;</td><td>&quot;away&quot;</td><td>2608</td><td>&quot;Saint Mary&#x27;s&quot;</td><td>&quot;https://a.espncdn.com/i/teamlo…</td><td>&quot;Gaels&quot;</td><td>52</td><td>&quot;Saint Mary&#x27;s&quot;</td><td>&quot;saint-marys-gaels&quot;</td><td>0</td><td>&quot;s:40~l:41~t:2608&quot;</td><td>false</td><td>0</td><td>36.4</td><td>11</td><td>4</td><td>34</td><td>0</td><td>18</td><td>null</td><td>18</td><td>false</td><td>2003</td><td>&quot;2003-03-10T05:00Z&quot;</td></tr><tr><td>9</td><td>3</td><td>23</td><td>null</td><td>43.6</td><td>55</td><td>24</td><td>0</td><td>20</td><td>77.8</td><td>27</td><td>21</td><td>2003-03-10</td><td>2003-03-10 00:00:00 EST</td><td>230682250</td><td>null</td><td>12</td><td>&quot;SMC&quot;</td><td>&quot;003057&quot;</td><td>&quot;d80024&quot;</td><td>&quot;Saint Mary&#x27;s Gaels&quot;</td><td>2608</td><td>&quot;Saint Mary&#x27;s&quot;</td><td>&quot;https://a.espncdn.com/i/teamlo…</td><td>&quot;Gaels&quot;</td><td>52</td><td>&quot;Saint Mary&#x27;s&quot;</td><td>&quot;saint-marys-gaels&quot;</td><td>&quot;s:40~l:41~t:2608&quot;</td><td>null</td><td>2003</td><td>2</td><td>10</td><td>&quot;GONZ&quot;</td><td>&quot;c8102e&quot;</td><td>&quot;041e42&quot;</td><td>&quot;Gonzaga Bulldogs&quot;</td><td>&quot;home&quot;</td><td>2250</td><td>&quot;Gonzaga&quot;</td><td>&quot;https://a.espncdn.com/i/teamlo…</td><td>&quot;Bulldogs&quot;</td><td>73</td><td>&quot;Gonzaga&quot;</td><td>&quot;gonzaga-bulldogs&quot;</td><td>0</td><td>&quot;s:40~l:41~t:2250&quot;</td><td>true</td><td>0</td><td>40.0</td><td>10</td><td>4</td><td>41</td><td>0</td><td>8</td><td>null</td><td>8</td><td>false</td><td>2003</td><td>&quot;2003-03-10T05:00Z&quot;</td></tr><tr><td>17</td><td>2</td><td>20</td><td>null</td><td>41.1</td><td>56</td><td>23</td><td>0</td><td>20</td><td>37.5</td><td>8</td><td>3</td><td>2003-12-09</td><td>2003-12-09 19:00:00 EST</td><td>233432507</td><td>null</td><td>16</td><td>&quot;PROV&quot;</td><td>&quot;a3a19e&quot;</td><td>&quot;000000&quot;</td><td>&quot;Providence Friars&quot;</td><td>2507</td><td>&quot;Providence&quot;</td><td>&quot;https://a.espncdn.com/i/teamlo…</td><td>&quot;Friars&quot;</td><td>70</td><td>&quot;Providence&quot;</td><td>&quot;providence-friars&quot;</td><td>&quot;s:40~l:41~t:2507&quot;</td><td>null</td><td>2004</td><td>2</td><td>6</td><td>&quot;ILL&quot;</td><td>&quot;13294b&quot;</td><td>&quot;ff5f05&quot;</td><td>&quot;Illinois Fighting Illini&quot;</td><td>&quot;away&quot;</td><td>356</td><td>&quot;Illinois&quot;</td><td>&quot;https://a.espncdn.com/i/teamlo…</td><td>&quot;Fighting Illini&quot;</td><td>51</td><td>&quot;Illinois&quot;</td><td>&quot;illinois-fighting-illini&quot;</td><td>1</td><td>&quot;s:40~l:41~t:356&quot;</td><td>false</td><td>0</td><td>13.3</td><td>15</td><td>2</td><td>38</td><td>0</td><td>22</td><td>null</td><td>22</td><td>false</td><td>2004</td><td>&quot;2003-12-10T00:00Z&quot;</td></tr><tr><td>14</td><td>7</td><td>20</td><td>null</td><td>43.3</td><td>60</td><td>26</td><td>0</td><td>12</td><td>57.9</td><td>19</td><td>11</td><td>2003-12-09</td><td>2003-12-09 19:00:00 EST</td><td>233432507</td><td>null</td><td>19</td><td>&quot;ILL&quot;</td><td>&quot;13294b&quot;</td><td>&quot;ff5f05&quot;</td><td>&quot;Illinois Fighting Illini&quot;</td><td>356</td><td>&quot;Illinois&quot;</td><td>&quot;https://a.espncdn.com/i/teamlo…</td><td>&quot;Fighting Illini&quot;</td><td>51</td><td>&quot;Illinois&quot;</td><td>&quot;illinois-fighting-illini&quot;</td><td>&quot;s:40~l:41~t:356&quot;</td><td>null</td><td>2004</td><td>2</td><td>10</td><td>&quot;PROV&quot;</td><td>&quot;a3a19e&quot;</td><td>&quot;000000&quot;</td><td>&quot;Providence Friars&quot;</td><td>&quot;home&quot;</td><td>2507</td><td>&quot;Providence&quot;</td><td>&quot;https://a.espncdn.com/i/teamlo…</td><td>&quot;Friars&quot;</td><td>70</td><td>&quot;Providence&quot;</td><td>&quot;providence-friars&quot;</td><td>0</td><td>&quot;s:40~l:41~t:2507&quot;</td><td>true</td><td>0</td><td>43.8</td><td>16</td><td>7</td><td>44</td><td>0</td><td>14</td><td>null</td><td>14</td><td>false</td><td>2004</td><td>&quot;2003-12-10T00:00Z&quot;</td></tr><tr><td>9</td><td>6</td><td>33</td><td>null</td><td>44.4</td><td>63</td><td>28</td><td>0</td><td>17</td><td>69.6</td><td>23</td><td>16</td><td>2003-11-26</td><td>2003-11-26 22:00:00 EST</td><td>233300013</td><td>null</td><td>12</td><td>&quot;CP&quot;</td><td>&quot;eed897&quot;</td><td>&quot;1E4D2B&quot;</td><td>&quot;Cal Poly Mustangs&quot;</td><td>13</td><td>&quot;Cal Poly&quot;</td><td>&quot;https://a.espncdn.com/i/teamlo…</td><td>&quot;Mustangs&quot;</td><td>62</td><td>&quot;Cal Poly&quot;</td><td>&quot;cal-poly-mustangs&quot;</td><td>&quot;s:40~l:41~t:13&quot;</td><td>null</td><td>2004</td><td>2</td><td>9</td><td>&quot;COLO&quot;</td><td>&quot;cfb87c&quot;</td><td>&quot;000000&quot;</td><td>&quot;Colorado Buffaloes&quot;</td><td>&quot;away&quot;</td><td>38</td><td>&quot;Colorado&quot;</td><td>&quot;https://a.espncdn.com/i/teamlo…</td><td>&quot;Buffaloes&quot;</td><td>73</td><td>&quot;Colorado&quot;</td><td>&quot;colorado-buffaloes&quot;</td><td>0</td><td>&quot;s:40~l:41~t:38&quot;</td><td>true</td><td>0</td><td>10.0</td><td>10</td><td>1</td><td>48</td><td>0</td><td>14</td><td>null</td><td>14</td><td>false</td><td>2004</td><td>&quot;2003-11-27T03:00Z&quot;</td></tr></tbody></table></div>"
      ],
      "text/plain": [
       "shape: (5, 60)\n",
       "┌─────────┬────────┬────────────┬────────────┬───┬───────────┬────────────┬────────────┬───────────┐\n",
       "│ assists ┆ blocks ┆ defensive_ ┆ fast_break ┆ … ┆ turnovers ┆ is_tournam ┆ season_rig ┆ date      │\n",
       "│ ---     ┆ ---    ┆ rebounds   ┆ _points    ┆   ┆ ---       ┆ ent        ┆ ht         ┆ ---       │\n",
       "│ i32     ┆ i32    ┆ ---        ┆ ---        ┆   ┆ i32       ┆ ---        ┆ ---        ┆ str       │\n",
       "│         ┆        ┆ i32        ┆ str        ┆   ┆           ┆ bool       ┆ i32        ┆           │\n",
       "╞═════════╪════════╪════════════╪════════════╪═══╪═══════════╪════════════╪════════════╪═══════════╡\n",
       "│ 7       ┆ 3      ┆ 20         ┆ null       ┆ … ┆ 18        ┆ false      ┆ 2003       ┆ 2003-03-1 │\n",
       "│         ┆        ┆            ┆            ┆   ┆           ┆            ┆            ┆ 0T05:00Z  │\n",
       "│ 9       ┆ 3      ┆ 23         ┆ null       ┆ … ┆ 8         ┆ false      ┆ 2003       ┆ 2003-03-1 │\n",
       "│         ┆        ┆            ┆            ┆   ┆           ┆            ┆            ┆ 0T05:00Z  │\n",
       "│ 17      ┆ 2      ┆ 20         ┆ null       ┆ … ┆ 22        ┆ false      ┆ 2004       ┆ 2003-12-1 │\n",
       "│         ┆        ┆            ┆            ┆   ┆           ┆            ┆            ┆ 0T00:00Z  │\n",
       "│ 14      ┆ 7      ┆ 20         ┆ null       ┆ … ┆ 14        ┆ false      ┆ 2004       ┆ 2003-12-1 │\n",
       "│         ┆        ┆            ┆            ┆   ┆           ┆            ┆            ┆ 0T00:00Z  │\n",
       "│ 9       ┆ 6      ┆ 33         ┆ null       ┆ … ┆ 14        ┆ false      ┆ 2004       ┆ 2003-11-2 │\n",
       "│         ┆        ┆            ┆            ┆   ┆           ┆            ┆            ┆ 7T03:00Z  │\n",
       "└─────────┴────────┴────────────┴────────────┴───┴───────────┴────────────┴────────────┴───────────┘"
      ]
     },
     "metadata": {},
     "output_type": "display_data"
    },
    {
     "name": "stdout",
     "output_type": "stream",
     "text": [
      "\n",
      "After merging and tournament identification:\n",
      "Total games: 225644\n",
      "Regular season games: 225280 (99.8%)\n",
      "Tournament games: 364 (0.2%)\n"
     ]
    }
   ],
   "source": [
    "# Load data\n",
    "try:\n",
    "    # Load team box data\n",
    "    team_box_df = load_processed_data(\"team_box\")\n",
    "    logger.info(f\"Loaded team box data with {team_box_df.shape[0]} rows and {team_box_df.shape[1]} columns\")\n",
    "    \n",
    "    # Load schedules data\n",
    "    schedules_df = load_processed_data(\"schedules\")\n",
    "    logger.info(f\"Loaded schedules data with {schedules_df.shape[0]} rows and {schedules_df.shape[1]} columns\")\n",
    "    \n",
    "    # Check if 'season' column exists in either dataframe\n",
    "    if \"season\" not in team_box_df.columns and \"season\" not in schedules_df.columns:\n",
    "        # If neither has a season column, we might need to extract it from date or another column\n",
    "        if \"date\" in team_box_df.columns:\n",
    "            # Extract year from date if possible\n",
    "            logger.info(\"Extracting season from date column in team_box_df\")\n",
    "            team_box_df = team_box_df.with_columns(\n",
    "                pl.col(\"date\").str.slice(0, 4).cast(pl.Int32).alias(\"season\")\n",
    "            )\n",
    "        elif \"date\" in schedules_df.columns:\n",
    "            logger.info(\"Extracting season from date column in schedules_df\")\n",
    "            schedules_df = schedules_df.with_columns(\n",
    "                pl.col(\"date\").str.slice(0, 4).cast(pl.Int32).alias(\"season\")\n",
    "            )\n",
    "    \n",
    "    # Merge data with flexible approach\n",
    "    merged_df = merge_team_and_schedule_data(team_box_df, schedules_df)\n",
    "    logger.info(f\"Merged data has {merged_df.shape[0]} rows and {merged_df.shape[1]} columns\")\n",
    "    \n",
    "    # Filter years if possible\n",
    "    if \"season\" in merged_df.columns:\n",
    "        merged_df = merged_df.filter(pl.col(\"season\").is_in(YEARS))\n",
    "        logger.info(f\"Filtered to specified years: {merged_df.shape[0]} rows remaining\")\n",
    "    \n",
    "    # Print column names\n",
    "    print(\"Available columns in merged dataframe:\")\n",
    "    print(merged_df.columns)\n",
    "    \n",
    "    # Display first few rows\n",
    "    display(merged_df.head())\n",
    "    \n",
    "except Exception as e:\n",
    "    logger.error(f\"Error during data loading: {e}\")\n",
    "    raise\n",
    "\n",
    "# After merging data, check the tournament game counts\n",
    "tournament_count = merged_df.filter(pl.col(\"is_tournament\") == True).height\n",
    "regular_season_count = merged_df.filter(pl.col(\"is_tournament\") == False).height\n",
    "total_count = merged_df.height\n",
    "\n",
    "print(f\"\\nAfter merging and tournament identification:\")\n",
    "print(f\"Total games: {total_count}\")\n",
    "print(f\"Regular season games: {regular_season_count} ({regular_season_count/total_count*100:.1f}%)\")\n",
    "print(f\"Tournament games: {tournament_count} ({tournament_count/total_count*100:.1f}%)\")\n",
    "\n",
    "# If all games are identified as tournament games, or no tournament games found,\n",
    "# apply date-based approach as a fallback\n",
    "if tournament_count == total_count or tournament_count == 0:\n",
    "    print(\"\\nWarning: Tournament identification may be incorrect. Applying date-based approach as fallback.\")\n",
    "    \n",
    "    # Use game date to estimate tournament games (March 15+ and April)\n",
    "    date_col = None\n",
    "    if \"game_date\" in merged_df.columns:\n",
    "        date_col = \"game_date\"\n",
    "    elif \"date\" in merged_df.columns:\n",
    "        date_col = \"date\"\n",
    "    \n",
    "    if date_col:\n",
    "        if merged_df[date_col].dtype == pl.Date:\n",
    "            # Use date directly\n",
    "            month = pl.col(date_col).dt.month()\n",
    "            day = pl.col(date_col).dt.day()\n",
    "            \n",
    "            # NCAA tournament games typically start in mid-March\n",
    "            is_tournament = (\n",
    "                ((month == 3) & (day >= 15)) | \n",
    "                (month == 4)\n",
    "            )\n",
    "            \n",
    "            merged_df = merged_df.with_columns(is_tournament.alias(\"is_tournament\"))\n",
    "            \n",
    "        elif merged_df[date_col].dtype == pl.Utf8:\n",
    "            # For string dates\n",
    "            if merged_df[date_col].str.contains(\"T\").first():\n",
    "                # Assuming ISO format like \"2023-03-25T12:00:00Z\"\n",
    "                month_str = pl.col(date_col).str.slice(5, 2)\n",
    "                day_str = pl.col(date_col).str.slice(8, 2)\n",
    "            else:\n",
    "                # Other date format\n",
    "                month_str = pl.col(date_col).str.slice(5, 2)\n",
    "                day_str = pl.col(date_col).str.slice(8, 2)\n",
    "            \n",
    "            is_tournament = (\n",
    "                ((month_str == \"03\") & (day_str.cast(pl.Int32) >= 15)) | \n",
    "                (month_str == \"04\")\n",
    "            )\n",
    "            \n",
    "            merged_df = merged_df.with_columns(is_tournament.alias(\"is_tournament\"))\n",
    "        \n",
    "        # Show updated counts\n",
    "        tournament_count = merged_df.filter(pl.col(\"is_tournament\") == True).height\n",
    "        regular_season_count = merged_df.filter(pl.col(\"is_tournament\") == False).height\n",
    "        \n",
    "        print(f\"\\nAfter date-based correction:\")\n",
    "        print(f\"Regular season games: {regular_season_count} ({regular_season_count/total_count*100:.1f}%)\")\n",
    "        print(f\"Tournament games: {tournament_count} ({tournament_count/total_count*100:.1f}%)\")"
   ]
  },
  {
   "cell_type": "markdown",
   "metadata": {},
   "source": [
    "## Data Overview and Preparation\n",
    "\n",
    "We've successfully loaded the merged dataset containing team statistics for both regular season and tournament games across multiple seasons (2003-2024). The dataset includes a wealth of information for our analysis:\n",
    "\n",
    "- **Game information**: game_id, date, season\n",
    "- **Team identifiers**: team_id, team_name, team_abbreviation\n",
    "- **Performance metrics**: field_goal_pct, three_point_field_goal_pct, free_throw_pct, assists, steals, blocks, etc.\n",
    "- **Game outcomes**: team_score, opponent_team_score, team_winner\n",
    "- **Tournament indicator**: is_tournament (boolean flag)\n",
    "\n",
    "The data structure gives us one row per team per game, meaning each game appears twice in the dataset - once for each participating team. This is beneficial for our analysis as it allows us to easily calculate team-specific metrics.\n",
    "\n",
    "Before diving into the relationship between regular season and tournament performance, we'll calculate additional key performance indicators and aggregate the statistics by team and season, separating regular season from tournament games."
   ]
  },
  {
   "cell_type": "code",
   "execution_count": 31,
   "metadata": {},
   "outputs": [
    {
     "name": "stdout",
     "output_type": "stream",
     "text": [
      "Checking key columns for KPI calculations:\n",
      "- field_goal_pct: ✓\n",
      "- three_point_field_goal_pct: ✓\n",
      "- free_throw_pct: ✓\n",
      "- assists: ✓\n",
      "- turnovers: ✓\n",
      "- steals: ✓\n",
      "- blocks: ✓\n",
      "- offensive_rebounds: ✓\n",
      "- defensive_rebounds: ✓\n",
      "\n",
      "Added 11 new KPI columns: win_margin, efg_pct, points_per_fga, ts_pct, oreb_rate, ast_to_ratio, net_possessions, three_pt_points, two_pt_points, ft_points, pace_proxy\n",
      "\n",
      "Regular season vs Tournament games:\n"
     ]
    },
    {
     "data": {
      "text/html": [
       "<div><style>\n",
       ".dataframe > thead > tr,\n",
       ".dataframe > tbody > tr {\n",
       "  text-align: right;\n",
       "  white-space: pre-wrap;\n",
       "}\n",
       "</style>\n",
       "<small>shape: (2, 3)</small><table border=\"1\" class=\"dataframe\"><thead><tr><th>is_tournament</th><th>game_count</th><th>unique_teams</th></tr><tr><td>bool</td><td>u32</td><td>u32</td></tr></thead><tbody><tr><td>false</td><td>225280</td><td>1314</td></tr><tr><td>true</td><td>364</td><td>80</td></tr></tbody></table></div>"
      ],
      "text/plain": [
       "shape: (2, 3)\n",
       "┌───────────────┬────────────┬──────────────┐\n",
       "│ is_tournament ┆ game_count ┆ unique_teams │\n",
       "│ ---           ┆ ---        ┆ ---          │\n",
       "│ bool          ┆ u32        ┆ u32          │\n",
       "╞═══════════════╪════════════╪══════════════╡\n",
       "│ false         ┆ 225280     ┆ 1314         │\n",
       "│ true          ┆ 364        ┆ 80           │\n",
       "└───────────────┴────────────┴──────────────┘"
      ]
     },
     "metadata": {},
     "output_type": "display_data"
    },
    {
     "name": "stdout",
     "output_type": "stream",
     "text": [
      "\n",
      "Sample of enriched data with KPIs:\n"
     ]
    },
    {
     "data": {
      "text/html": [
       "<div><style>\n",
       ".dataframe > thead > tr,\n",
       ".dataframe > tbody > tr {\n",
       "  text-align: right;\n",
       "  white-space: pre-wrap;\n",
       "}\n",
       "</style>\n",
       "<small>shape: (5, 16)</small><table border=\"1\" class=\"dataframe\"><thead><tr><th>season</th><th>team_name</th><th>team_score</th><th>opponent_team_score</th><th>is_tournament</th><th>win_margin</th><th>efg_pct</th><th>points_per_fga</th><th>ts_pct</th><th>oreb_rate</th><th>ast_to_ratio</th><th>net_possessions</th><th>three_pt_points</th><th>two_pt_points</th><th>ft_points</th><th>pace_proxy</th></tr><tr><td>i32</td><td>str</td><td>i32</td><td>i32</td><td>bool</td><td>i32</td><td>f64</td><td>f64</td><td>f64</td><td>f64</td><td>f64</td><td>i32</td><td>i32</td><td>i32</td><td>i32</td><td>f64</td></tr></thead><tbody><tr><td>2003</td><td>&quot;Gaels&quot;</td><td>52</td><td>73</td><td>false</td><td>-21</td><td>0.4</td><td>1.155556</td><td>0.471698</td><td>0.333333</td><td>0.388889</td><td>-12</td><td>12</td><td>24</td><td>16</td><td>73.12</td></tr><tr><td>2003</td><td>&quot;Bulldogs&quot;</td><td>73</td><td>52</td><td>false</td><td>21</td><td>0.472727</td><td>1.327273</td><td>0.545754</td><td>0.342857</td><td>1.125</td><td>5</td><td>12</td><td>40</td><td>21</td><td>74.88</td></tr><tr><td>2004</td><td>&quot;Fighting Illini&quot;</td><td>51</td><td>70</td><td>false</td><td>-19</td><td>0.428571</td><td>0.910714</td><td>0.428427</td><td>0.444444</td><td>0.772727</td><td>-14</td><td>6</td><td>42</td><td>3</td><td>81.52</td></tr><tr><td>2004</td><td>&quot;Friars&quot;</td><td>70</td><td>51</td><td>false</td><td>19</td><td>0.491667</td><td>1.166667</td><td>0.511995</td><td>0.487179</td><td>1.0</td><td>3</td><td>21</td><td>38</td><td>11</td><td>82.36</td></tr><tr><td>2004</td><td>&quot;Buffaloes&quot;</td><td>73</td><td>62</td><td>false</td><td>11</td><td>0.452381</td><td>1.15873</td><td>0.499179</td><td>0.266667</td><td>0.642857</td><td>1</td><td>3</td><td>54</td><td>16</td><td>87.12</td></tr></tbody></table></div>"
      ],
      "text/plain": [
       "shape: (5, 16)\n",
       "┌────────┬────────────┬────────────┬───────────┬───┬───────────┬───────────┬───────────┬───────────┐\n",
       "│ season ┆ team_name  ┆ team_score ┆ opponent_ ┆ … ┆ three_pt_ ┆ two_pt_po ┆ ft_points ┆ pace_prox │\n",
       "│ ---    ┆ ---        ┆ ---        ┆ team_scor ┆   ┆ points    ┆ ints      ┆ ---       ┆ y         │\n",
       "│ i32    ┆ str        ┆ i32        ┆ e         ┆   ┆ ---       ┆ ---       ┆ i32       ┆ ---       │\n",
       "│        ┆            ┆            ┆ ---       ┆   ┆ i32       ┆ i32       ┆           ┆ f64       │\n",
       "│        ┆            ┆            ┆ i32       ┆   ┆           ┆           ┆           ┆           │\n",
       "╞════════╪════════════╪════════════╪═══════════╪═══╪═══════════╪═══════════╪═══════════╪═══════════╡\n",
       "│ 2003   ┆ Gaels      ┆ 52         ┆ 73        ┆ … ┆ 12        ┆ 24        ┆ 16        ┆ 73.12     │\n",
       "│ 2003   ┆ Bulldogs   ┆ 73         ┆ 52        ┆ … ┆ 12        ┆ 40        ┆ 21        ┆ 74.88     │\n",
       "│ 2004   ┆ Fighting   ┆ 51         ┆ 70        ┆ … ┆ 6         ┆ 42        ┆ 3         ┆ 81.52     │\n",
       "│        ┆ Illini     ┆            ┆           ┆   ┆           ┆           ┆           ┆           │\n",
       "│ 2004   ┆ Friars     ┆ 70         ┆ 51        ┆ … ┆ 21        ┆ 38        ┆ 11        ┆ 82.36     │\n",
       "│ 2004   ┆ Buffaloes  ┆ 73         ┆ 62        ┆ … ┆ 3         ┆ 54        ┆ 16        ┆ 87.12     │\n",
       "└────────┴────────────┴────────────┴───────────┴───┴───────────┴───────────┴───────────┴───────────┘"
      ]
     },
     "metadata": {},
     "output_type": "display_data"
    }
   ],
   "source": [
    "def calculate_team_kpis(df):\n",
    "    \"\"\"\n",
    "    Calculate key performance indicators for each team.\n",
    "    \n",
    "    Args:\n",
    "        df: Polars DataFrame with team statistics\n",
    "        \n",
    "    Returns:\n",
    "        Polars DataFrame with added KPI columns\n",
    "    \"\"\"\n",
    "    # Detect which columns are available\n",
    "    available_columns = set(df.columns)\n",
    "    \n",
    "    # Prepare expressions list - only add expressions where required columns exist\n",
    "    expressions = []\n",
    "    \n",
    "    # Win margin\n",
    "    if all(col in available_columns for col in [\"team_score\", \"opponent_team_score\"]):\n",
    "        expressions.append(\n",
    "            (pl.col(\"team_score\") - pl.col(\"opponent_team_score\")).alias(\"win_margin\")\n",
    "        )\n",
    "    \n",
    "    # Use existing percentage columns if available, otherwise calculate\n",
    "    if \"field_goal_pct\" not in available_columns and all(col in available_columns for col in [\"field_goals_made\", \"field_goals_attempted\"]):\n",
    "        expressions.append(\n",
    "            (pl.when(pl.col(\"field_goals_attempted\") > 0)\n",
    "             .then(pl.col(\"field_goals_made\") / pl.col(\"field_goals_attempted\"))\n",
    "             .otherwise(0.0)).alias(\"fg_pct_calc\")\n",
    "        )\n",
    "    \n",
    "    if \"three_point_field_goal_pct\" not in available_columns and all(col in available_columns for col in [\"three_point_field_goals_made\", \"three_point_field_goals_attempted\"]):\n",
    "        expressions.append(\n",
    "            (pl.when(pl.col(\"three_point_field_goals_attempted\") > 0)\n",
    "             .then(pl.col(\"three_point_field_goals_made\") / pl.col(\"three_point_field_goals_attempted\"))\n",
    "             .otherwise(0.0)).alias(\"three_pt_pct_calc\")\n",
    "        )\n",
    "    \n",
    "    if \"free_throw_pct\" not in available_columns and all(col in available_columns for col in [\"free_throws_made\", \"free_throws_attempted\"]):\n",
    "        expressions.append(\n",
    "            (pl.when(pl.col(\"free_throws_attempted\") > 0)\n",
    "             .then(pl.col(\"free_throws_made\") / pl.col(\"free_throws_attempted\"))\n",
    "             .otherwise(0.0)).alias(\"ft_pct_calc\")\n",
    "        )\n",
    "    \n",
    "    # Effective field goal percentage: (FGM + 0.5 * 3PM) / FGA\n",
    "    if all(col in available_columns for col in [\"field_goals_made\", \"three_point_field_goals_made\", \"field_goals_attempted\"]):\n",
    "        expressions.append(\n",
    "            (pl.when(pl.col(\"field_goals_attempted\") > 0)\n",
    "             .then((pl.col(\"field_goals_made\") + 0.5 * pl.col(\"three_point_field_goals_made\")) / \n",
    "                   pl.col(\"field_goals_attempted\"))\n",
    "             .otherwise(0.0)).alias(\"efg_pct\")\n",
    "        )\n",
    "    \n",
    "    # Use points for scoring metrics if available\n",
    "    if \"team_score\" in available_columns:\n",
    "        # Points per field goal attempt\n",
    "        if \"field_goals_attempted\" in available_columns:\n",
    "            expressions.append(\n",
    "                (pl.when(pl.col(\"field_goals_attempted\") > 0)\n",
    "                 .then(pl.col(\"team_score\") / pl.col(\"field_goals_attempted\"))\n",
    "                 .otherwise(0.0)).alias(\"points_per_fga\")\n",
    "            )\n",
    "        \n",
    "        # True shooting percentage: PTS / (2 * (FGA + 0.44 * FTA))\n",
    "        if all(col in available_columns for col in [\"field_goals_attempted\", \"free_throws_attempted\"]):\n",
    "            expressions.append(\n",
    "                (pl.when((pl.col(\"field_goals_attempted\") + 0.44 * pl.col(\"free_throws_attempted\")) > 0)\n",
    "                 .then(pl.col(\"team_score\") / (2 * (pl.col(\"field_goals_attempted\") + 0.44 * pl.col(\"free_throws_attempted\"))))\n",
    "                 .otherwise(0.0)).alias(\"ts_pct\")\n",
    "            )\n",
    "    \n",
    "    # Offensive and defensive rebounding\n",
    "    if all(col in available_columns for col in [\"offensive_rebounds\", \"defensive_rebounds\"]):\n",
    "        expressions.append(\n",
    "            (pl.when((pl.col(\"offensive_rebounds\") + pl.col(\"defensive_rebounds\")) > 0)\n",
    "             .then(pl.col(\"offensive_rebounds\") / (pl.col(\"offensive_rebounds\") + pl.col(\"defensive_rebounds\")))\n",
    "             .otherwise(0.0)).alias(\"oreb_rate\")\n",
    "        )\n",
    "    \n",
    "    # Assist to turnover ratio\n",
    "    if all(col in available_columns for col in [\"assists\", \"turnovers\"]):\n",
    "        expressions.append(\n",
    "            (pl.when(pl.col(\"turnovers\") > 0)\n",
    "             .then(pl.col(\"assists\") / pl.col(\"turnovers\"))\n",
    "             .otherwise(pl.col(\"assists\"))).alias(\"ast_to_ratio\")  # If no turnovers, just use assists\n",
    "        )\n",
    "    \n",
    "    # Ball control metrics\n",
    "    available_defensive_stats = [\"steals\", \"blocks\", \"turnovers\"]\n",
    "    if all(col in available_columns for col in available_defensive_stats):\n",
    "        expressions.append(\n",
    "            (pl.col(\"steals\") + pl.col(\"blocks\") - pl.col(\"turnovers\")).alias(\"net_possessions\")\n",
    "        )\n",
    "    \n",
    "    # If we have 3pt, 2pt field goals, and free throws, calculate points by type\n",
    "    if all(col in available_columns for col in [\"three_point_field_goals_made\", \"field_goals_made\", \"free_throws_made\"]):\n",
    "        expressions.append(\n",
    "            (3 * pl.col(\"three_point_field_goals_made\")).alias(\"three_pt_points\")\n",
    "        )\n",
    "        expressions.append(\n",
    "            (2 * (pl.col(\"field_goals_made\") - pl.col(\"three_point_field_goals_made\"))).alias(\"two_pt_points\")\n",
    "        )\n",
    "        expressions.append(\n",
    "            (pl.col(\"free_throws_made\")).alias(\"ft_points\")\n",
    "        )\n",
    "    \n",
    "    # If we have attempts and turnovers, estimate pace\n",
    "    if all(col in available_columns for col in [\"field_goals_attempted\", \"free_throws_attempted\", \"turnovers\"]):\n",
    "        expressions.append(\n",
    "            (pl.col(\"field_goals_attempted\") + 0.44 * pl.col(\"free_throws_attempted\") + pl.col(\"turnovers\")).alias(\"pace_proxy\")\n",
    "        )\n",
    "    \n",
    "    # Only apply if we have expressions to add\n",
    "    if expressions:\n",
    "        # Add all columns at once to avoid multiple passes\n",
    "        enriched_df = df.with_columns(expressions)\n",
    "        return enriched_df\n",
    "    else:\n",
    "        # If no expressions could be applied, return original dataframe\n",
    "        return df\n",
    "\n",
    "# Apply KPI calculations\n",
    "try:\n",
    "    # Check that we have some key statistical columns\n",
    "    print(\"Checking key columns for KPI calculations:\")\n",
    "    key_stat_columns = [\"field_goal_pct\", \"three_point_field_goal_pct\", \n",
    "                        \"free_throw_pct\", \"assists\", \"turnovers\", \"steals\", \n",
    "                        \"blocks\", \"offensive_rebounds\", \"defensive_rebounds\"]\n",
    "    \n",
    "    for col in key_stat_columns:\n",
    "        print(f\"- {col}: {'✓' if col in merged_df.columns else '✗'}\")\n",
    "    \n",
    "    # Create additional KPIs\n",
    "    enriched_df = calculate_team_kpis(merged_df)\n",
    "    \n",
    "    # Count of newly added columns\n",
    "    new_columns = [col for col in enriched_df.columns if col not in merged_df.columns]\n",
    "    print(f\"\\nAdded {len(new_columns)} new KPI columns: {', '.join(new_columns)}\")\n",
    "    \n",
    "    # Count of regular season vs tournament games\n",
    "    tournament_counts = enriched_df.group_by(\"is_tournament\").agg(\n",
    "        pl.count(\"game_id\").alias(\"game_count\"),\n",
    "        pl.n_unique(\"team_id\").alias(\"unique_teams\")\n",
    "    )\n",
    "    \n",
    "    print(\"\\nRegular season vs Tournament games:\")\n",
    "    display(tournament_counts)\n",
    "    \n",
    "    # Show sample of enriched data\n",
    "    print(\"\\nSample of enriched data with KPIs:\")\n",
    "    display(enriched_df.select([\"season\", \"team_name\", \"team_score\", \"opponent_team_score\", \"is_tournament\"] + new_columns).head())\n",
    "    \n",
    "except Exception as e:\n",
    "    logger.error(f\"Error calculating KPIs: {e}\")\n",
    "    print(f\"Error details: {e}\")\n",
    "    # Try to identify which expression might be causing the problem\n",
    "    if 'expressions' in locals():\n",
    "        for i, expr in enumerate(expressions):\n",
    "            print(f\"Expression {i}: {expr}\")"
   ]
  },
  {
   "cell_type": "markdown",
   "metadata": {},
   "source": [
    "## Regular Season Performance Metrics\n",
    "\n",
    "Now that we've calculated our key performance indicators (KPIs), we'll analyze team-level performance metrics by aggregating statistics at the team and season level. This will allow us to understand:\n",
    "\n",
    "1. How teams perform in regular season games across key metrics\n",
    "2. Which metrics appear to be most strongly associated with overall success\n",
    "3. The distribution of performance metrics across different teams\n",
    "\n",
    "For each metric, we'll calculate:\n",
    "- Mean (average performance)\n",
    "- Standard deviation (consistency)\n",
    "- Min/Max (range of performance)\n",
    "- Count of games (sample size)\n",
    "\n",
    "We'll separate regular season performance from tournament performance to enable comparison between the two and identify which regular season metrics might be predictive of tournament success."
   ]
  },
  {
   "cell_type": "code",
   "execution_count": 32,
   "metadata": {},
   "outputs": [
    {
     "name": "stdout",
     "output_type": "stream",
     "text": [
      "Calculating team season aggregates for regular season games...\n",
      "Found 37 numeric columns to aggregate\n",
      "Warning: We're seeing that all games are currently marked as tournament games.\n",
      "I'll analyze the data to better identify tournament games...\n",
      "\n",
      "Game counts by month:\n"
     ]
    },
    {
     "data": {
      "text/html": [
       "<div><style>\n",
       ".dataframe > thead > tr,\n",
       ".dataframe > tbody > tr {\n",
       "  text-align: right;\n",
       "  white-space: pre-wrap;\n",
       "}\n",
       "</style>\n",
       "<small>shape: (6, 2)</small><table border=\"1\" class=\"dataframe\"><thead><tr><th>month</th><th>count</th></tr><tr><td>i8</td><td>u32</td></tr></thead><tbody><tr><td>1</td><td>56912</td></tr><tr><td>3</td><td>24248</td></tr><tr><td>11</td><td>44808</td></tr><tr><td>2</td><td>52288</td></tr><tr><td>12</td><td>47202</td></tr><tr><td>4</td><td>186</td></tr></tbody></table></div>"
      ],
      "text/plain": [
       "shape: (6, 2)\n",
       "┌───────┬───────┐\n",
       "│ month ┆ count │\n",
       "│ ---   ┆ ---   │\n",
       "│ i8    ┆ u32   │\n",
       "╞═══════╪═══════╡\n",
       "│ 1     ┆ 56912 │\n",
       "│ 3     ┆ 24248 │\n",
       "│ 11    ┆ 44808 │\n",
       "│ 2     ┆ 52288 │\n",
       "│ 12    ┆ 47202 │\n",
       "│ 4     ┆ 186   │\n",
       "└───────┴───────┘"
      ]
     },
     "metadata": {},
     "output_type": "display_data"
    },
    {
     "name": "stdout",
     "output_type": "stream",
     "text": [
      "\n",
      "These results will help us better identify tournament games in future cells.\n",
      "\n",
      "Regular season stats shape: (12155, 153)\n",
      "\n",
      "Games per team distribution:\n",
      "Min: 1, Max: 40, Mean: 18.5\n",
      "\n",
      "Top 10 team seasons by win percentage:\n"
     ]
    },
    {
     "data": {
      "text/html": [
       "<div><style>\n",
       ".dataframe > thead > tr,\n",
       ".dataframe > tbody > tr {\n",
       "  text-align: right;\n",
       "  white-space: pre-wrap;\n",
       "}\n",
       "</style>\n",
       "<small>shape: (10, 4)</small><table border=\"1\" class=\"dataframe\"><thead><tr><th>season</th><th>team_name</th><th>win_pct</th><th>game_count</th></tr><tr><td>i32</td><td>str</td><td>f64</td><td>u32</td></tr></thead><tbody><tr><td>2019</td><td>&quot;Lions&quot;</td><td>100.0</td><td>1</td></tr><tr><td>2009</td><td>&quot;Tars&quot;</td><td>100.0</td><td>1</td></tr><tr><td>2018</td><td>&quot;Tigers&quot;</td><td>100.0</td><td>1</td></tr><tr><td>2004</td><td>&quot;Buffaloes&quot;</td><td>100.0</td><td>1</td></tr><tr><td>2006</td><td>&quot;Tartans&quot;</td><td>100.0</td><td>1</td></tr><tr><td>2009</td><td>&quot;Bearcats&quot;</td><td>100.0</td><td>1</td></tr><tr><td>2020</td><td>&quot;Panthers&quot;</td><td>100.0</td><td>1</td></tr><tr><td>2011</td><td>&quot;Tigers&quot;</td><td>100.0</td><td>1</td></tr><tr><td>2012</td><td>&quot;Bearcats&quot;</td><td>100.0</td><td>1</td></tr><tr><td>2004</td><td>&quot;Panthers&quot;</td><td>100.0</td><td>1</td></tr></tbody></table></div>"
      ],
      "text/plain": [
       "shape: (10, 4)\n",
       "┌────────┬───────────┬─────────┬────────────┐\n",
       "│ season ┆ team_name ┆ win_pct ┆ game_count │\n",
       "│ ---    ┆ ---       ┆ ---     ┆ ---        │\n",
       "│ i32    ┆ str       ┆ f64     ┆ u32        │\n",
       "╞════════╪═══════════╪═════════╪════════════╡\n",
       "│ 2019   ┆ Lions     ┆ 100.0   ┆ 1          │\n",
       "│ 2009   ┆ Tars      ┆ 100.0   ┆ 1          │\n",
       "│ 2018   ┆ Tigers    ┆ 100.0   ┆ 1          │\n",
       "│ 2004   ┆ Buffaloes ┆ 100.0   ┆ 1          │\n",
       "│ 2006   ┆ Tartans   ┆ 100.0   ┆ 1          │\n",
       "│ 2009   ┆ Bearcats  ┆ 100.0   ┆ 1          │\n",
       "│ 2020   ┆ Panthers  ┆ 100.0   ┆ 1          │\n",
       "│ 2011   ┆ Tigers    ┆ 100.0   ┆ 1          │\n",
       "│ 2012   ┆ Bearcats  ┆ 100.0   ┆ 1          │\n",
       "│ 2004   ┆ Panthers  ┆ 100.0   ┆ 1          │\n",
       "└────────┴───────────┴─────────┴────────────┘"
      ]
     },
     "metadata": {},
     "output_type": "display_data"
    }
   ],
   "source": [
    "def aggregate_team_season_stats(df, is_tournament_value=False):\n",
    "    \"\"\"\n",
    "    Aggregate statistics by team and season, separating regular season from tournament games.\n",
    "    \n",
    "    Args:\n",
    "        df: Polars DataFrame with team statistics and KPIs\n",
    "        is_tournament_value: Boolean to filter for regular season (False) or tournament (True) games\n",
    "        \n",
    "    Returns:\n",
    "        Polars DataFrame with aggregated statistics\n",
    "    \"\"\"\n",
    "    # Filter tournament/regular season games\n",
    "    filtered_df = df.filter(pl.col(\"is_tournament\") == is_tournament_value)\n",
    "    \n",
    "    # Print warning if filtering results in empty dataframe\n",
    "    if filtered_df.shape[0] == 0:\n",
    "        tournament_type = \"tournament\" if is_tournament_value else \"regular season\"\n",
    "        print(f\"Warning: No {tournament_type} games found in the dataset\")\n",
    "        return None\n",
    "    \n",
    "    # List of numeric columns to aggregate (excluding IDs, dates, etc.)\n",
    "    # First get all columns with numeric dtypes\n",
    "    numeric_cols = [\n",
    "        col for col in filtered_df.columns \n",
    "        if filtered_df.schema[col] in (pl.Int32, pl.Int64, pl.Float32, pl.Float64) \n",
    "        and col not in (\"season\", \"team_id\", \"opponent_team_id\", \"game_id\")\n",
    "    ]\n",
    "    \n",
    "    # Log number of numeric columns found\n",
    "    print(f\"Found {len(numeric_cols)} numeric columns to aggregate\")\n",
    "    \n",
    "    # Define aggregation expressions\n",
    "    agg_exprs = []\n",
    "    for col in numeric_cols:\n",
    "        agg_exprs.extend([\n",
    "            pl.col(col).mean().alias(f\"{col}_mean\"),\n",
    "            pl.col(col).std().alias(f\"{col}_std\"),\n",
    "            pl.col(col).min().alias(f\"{col}_min\"),\n",
    "            pl.col(col).max().alias(f\"{col}_max\"),\n",
    "        ])\n",
    "    \n",
    "    # Add count of games\n",
    "    agg_exprs.append(pl.count().alias(\"game_count\"))\n",
    "    \n",
    "    # Add win percentage calculation\n",
    "    if \"team_winner\" in filtered_df.columns:\n",
    "        agg_exprs.append(\n",
    "            (pl.col(\"team_winner\").cast(pl.Int32).mean() * 100).alias(\"win_pct\")\n",
    "        )\n",
    "    \n",
    "    # Group by team and season\n",
    "    team_id_col = \"team_id\" if \"team_id\" in filtered_df.columns else \"team_abbreviation\"\n",
    "    team_name_col = \"team_name\" if \"team_name\" in filtered_df.columns else \"team_display_name\"\n",
    "    \n",
    "    agg_df = filtered_df.group_by([\"season\", team_id_col, team_name_col]).agg(agg_exprs)\n",
    "    \n",
    "    # Fix the tournament flag issue by correctly identifying tournament rows\n",
    "    # This is a temporary fix for the current dataset structure\n",
    "    if not is_tournament_value:\n",
    "        print(\"Warning: We're seeing that all games are currently marked as tournament games.\")\n",
    "        print(\"I'll analyze the data to better identify tournament games...\")\n",
    "        \n",
    "        # Check if we can use notes_headline or other columns to better identify tournament games\n",
    "        if \"notes_headline\" in df.columns:\n",
    "            sample_notes = df.select(\"notes_headline\").head(10)\n",
    "            print(\"Sample notes_headline values:\")\n",
    "            display(sample_notes)\n",
    "        \n",
    "        # Let's try another approach - use the dates to identify March/April games\n",
    "        if \"game_date\" in df.columns or \"date\" in df.columns:\n",
    "            date_col = \"game_date\" if \"game_date\" in df.columns else \"date\"\n",
    "            \n",
    "            date_counts = df.select(\n",
    "                pl.col(date_col).dt.month().alias(\"month\")\n",
    "            ).group_by(\"month\").count()\n",
    "            \n",
    "            print(\"\\nGame counts by month:\")\n",
    "            display(date_counts)\n",
    "            \n",
    "            print(\"\\nThese results will help us better identify tournament games in future cells.\")\n",
    "    \n",
    "    return agg_df\n",
    "\n",
    "# Calculate team season aggregates for regular season\n",
    "try:\n",
    "    print(\"Calculating team season aggregates for regular season games...\")\n",
    "    # Start with regular season stats (is_tournament=False)\n",
    "    regular_season_stats = aggregate_team_season_stats(enriched_df, is_tournament_value=False)\n",
    "    \n",
    "    if regular_season_stats is not None:\n",
    "        print(f\"\\nRegular season stats shape: {regular_season_stats.shape}\")\n",
    "        \n",
    "        # Show the distribution of games per team per season\n",
    "        game_counts = regular_season_stats.select(\"game_count\").to_series()\n",
    "        \n",
    "        print(f\"\\nGames per team distribution:\")\n",
    "        print(f\"Min: {game_counts.min()}, Max: {game_counts.max()}, Mean: {game_counts.mean():.1f}\")\n",
    "        \n",
    "        # Show top teams by win percentage\n",
    "        if \"win_pct\" in regular_season_stats.columns:\n",
    "            print(\"\\nTop 10 team seasons by win percentage:\")\n",
    "            top_teams = regular_season_stats.sort(\"win_pct\", descending=True).select(\n",
    "                [\"season\", \"team_name\", \"win_pct\", \"game_count\"]\n",
    "            ).head(10)\n",
    "            display(top_teams)\n",
    "    \n",
    "except Exception as e:\n",
    "    logger.error(f\"Error calculating team season aggregates: {e}\")\n",
    "    print(f\"Error details: {e}\")"
   ]
  },
  {
   "cell_type": "markdown",
   "metadata": {},
   "source": [
    "## Tournament vs Regular Season Performance\n",
    "\n",
    "Now that we've aggregated team statistics at the season level, we'll analyze how regular season performance metrics correlate with tournament success. We'll focus on key indicators like:\n",
    "\n",
    "1. Shooting efficiency (FG%, 3P%, FT%, eFG%, TS%)\n",
    "2. Ball movement and control (Assists, Turnovers, Assist-to-Turnover ratio)\n",
    "3. Rebounding (Offensive and Defensive rebounds)\n",
    "4. Defensive metrics (Steals, Blocks)\n",
    "5. Overall success (Win percentage, Average margin)\n",
    "\n",
    "For teams that participated in both regular season and tournament games, we'll compare their performance metrics across both settings to identify which regular season indicators might be most predictive of tournament success."
   ]
  },
  {
   "cell_type": "code",
   "execution_count": 34,
   "metadata": {},
   "outputs": [
    {
     "name": "stdout",
     "output_type": "stream",
     "text": [
      "Calculating team season aggregates for tournament games...\n",
      "Found 37 numeric columns to aggregate\n",
      "\n",
      "Tournament stats shape: (268, 153)\n",
      "\n",
      "Tournament games per team distribution:\n",
      "Min: 1, Max: 3, Mean: 1.4\n",
      "\n",
      "Analyzing game distribution by month to refine tournament identification:\n",
      "Game counts by month-year (showing top 20):\n"
     ]
    },
    {
     "data": {
      "text/html": [
       "<div><style>\n",
       ".dataframe > thead > tr,\n",
       ".dataframe > tbody > tr {\n",
       "  text-align: right;\n",
       "  white-space: pre-wrap;\n",
       "}\n",
       "</style>\n",
       "<small>shape: (20, 2)</small><table border=\"1\" class=\"dataframe\"><thead><tr><th>month_year</th><th>game_count</th></tr><tr><td>str</td><td>u32</td></tr></thead><tbody><tr><td>&quot;2003-03&quot;</td><td>2</td></tr><tr><td>&quot;2003-11&quot;</td><td>22</td></tr><tr><td>&quot;2003-12&quot;</td><td>2</td></tr><tr><td>&quot;2004-11&quot;</td><td>872</td></tr><tr><td>&quot;2004-12&quot;</td><td>1936</td></tr><tr><td>&hellip;</td><td>&hellip;</td></tr><tr><td>&quot;2006-11&quot;</td><td>2032</td></tr><tr><td>&quot;2006-12&quot;</td><td>2222</td></tr><tr><td>&quot;2007-01&quot;</td><td>2678</td></tr><tr><td>&quot;2007-02&quot;</td><td>2546</td></tr><tr><td>&quot;2007-03&quot;</td><td>1006</td></tr></tbody></table></div>"
      ],
      "text/plain": [
       "shape: (20, 2)\n",
       "┌────────────┬────────────┐\n",
       "│ month_year ┆ game_count │\n",
       "│ ---        ┆ ---        │\n",
       "│ str        ┆ u32        │\n",
       "╞════════════╪════════════╡\n",
       "│ 2003-03    ┆ 2          │\n",
       "│ 2003-11    ┆ 22         │\n",
       "│ 2003-12    ┆ 2          │\n",
       "│ 2004-11    ┆ 872        │\n",
       "│ 2004-12    ┆ 1936       │\n",
       "│ …          ┆ …          │\n",
       "│ 2006-11    ┆ 2032       │\n",
       "│ 2006-12    ┆ 2222       │\n",
       "│ 2007-01    ┆ 2678       │\n",
       "│ 2007-02    ┆ 2546       │\n",
       "│ 2007-03    ┆ 1006       │\n",
       "└────────────┴────────────┘"
      ]
     },
     "metadata": {},
     "output_type": "display_data"
    },
    {
     "name": "stdout",
     "output_type": "stream",
     "text": [
      "\n",
      "Creating visualizations to compare regular season and tournament performance...\n",
      "Joining regular season and tournament statistics...\n",
      "Found 268 team-seasons with both regular season and tournament data\n"
     ]
    },
    {
     "data": {
      "application/vnd.plotly.v1+json": {
       "config": {
        "plotlyServerURL": "https://plot.ly"
       },
       "data": [
        {
         "marker": {
          "opacity": 0.6
         },
         "mode": "markers",
         "name": "Win Percentage",
         "type": "scatter",
         "x": {
          "bdata": "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",
          "dtype": "f8"
         },
         "xaxis": "x",
         "y": {
          "bdata": "AAAAAAAAWUAAAAAAAAAAAAAAAAAAAAAAAAAAAAAAWUAAAAAAAABJQAAAAAAAAAAAAAAAAAAAAAAAAAAAAABZQKqqqqqqqlBAAAAAAAAAWUAAAAAAAABZQAAAAAAAAAAAAAAAAAAAWUAAAAAAAAAAAAAAAAAAAFlAAAAAAAAAAAAAAAAAAAAAAAAAAAAAAFlAAAAAAAAAWUAAAAAAAABJQAAAAAAAAFlAqqqqqqqqUEAAAAAAAAAAAAAAAAAAAAAAAAAAAAAAAAAAAAAAAAAAAAAAAAAAAAAAAAAAAAAAWUAAAAAAAABZQAAAAAAAAAAAAAAAAAAAAACqqqqqqqpQQAAAAAAAAAAAAAAAAAAASUAAAAAAAAAAAAAAAAAAAFlAAAAAAAAAAAAAAAAAAAAAAAAAAAAAAFlAAAAAAAAAWUAAAAAAAAAAAAAAAAAAAAAAAAAAAAAAAAAAAAAAAABZQAAAAAAAAAAAAAAAAAAAAAAAAAAAAAAAAAAAAAAAAFlAAAAAAAAAAAAAAAAAAAAAAAAAAAAAAFlAAAAAAAAAWUAAAAAAAABZQAAAAAAAAAAAAAAAAAAAAAAAAAAAAABZQAAAAAAAAAAAAAAAAAAAAAAAAAAAAABZQAAAAAAAAAAAAAAAAAAAAAAAAAAAAABJQAAAAAAAAFlAAAAAAAAAWUCqqqqqqqpQQAAAAAAAAAAAAAAAAAAAWUAAAAAAAAAAAAAAAAAAAFlAAAAAAAAAWUAAAAAAAABZQAAAAAAAAElAAAAAAAAAAAAAAAAAAABJQAAAAAAAAElAAAAAAAAAWUAAAAAAAABZQAAAAAAAAElAAAAAAAAASUAAAAAAAABZQAAAAAAAAFlAAAAAAAAAWUCqqqqqqqpQQAAAAAAAAFlAAAAAAAAAAACqqqqqqqpQQAAAAAAAAAAAAAAAAAAAAAAAAAAAAABZQAAAAAAAAAAAAAAAAAAAAAAAAAAAAABZQAAAAAAAAAAAAAAAAAAAWUAAAAAAAABZQAAAAAAAAAAAAAAAAAAASUAAAAAAAABJQAAAAAAAAElAAAAAAAAAAAAAAAAAAABZQKqqqqqqqlBAqqqqqqqqUEAAAAAAAAAAAAAAAAAAAAAAAAAAAAAAAAAAAAAAAABZQAAAAAAAAFlAAAAAAAAASUAAAAAAAABJQAAAAAAAAAAAAAAAAAAAAAAAAAAAAAAAAAAAAAAAAAAAAAAAAAAAWUAAAAAAAAAAAAAAAAAAAFlAAAAAAAAAAAAAAAAAAAAAAAAAAAAAAAAAAAAAAAAAWUAAAAAAAABZQAAAAAAAAFlAAAAAAAAAAAAAAAAAAAAAAKqqqqqqqlBAAAAAAAAAWUCqqqqqqqpQQAAAAAAAAAAAAAAAAAAAWUAAAAAAAAAAAAAAAAAAAAAAAAAAAAAAAAAAAAAAAABZQAAAAAAAAAAAAAAAAAAAAACqqqqqqqpQQAAAAAAAAElAAAAAAAAAWUAAAAAAAABZQAAAAAAAAAAAAAAAAAAAWUAAAAAAAAAAAAAAAAAAAAAAAAAAAAAAAAAAAAAAAAAAAKqqqqqqqlBAqqqqqqqqUEAAAAAAAABJQAAAAAAAAAAAAAAAAAAAAAAAAAAAAAAAAAAAAAAAAAAAAAAAAAAAAAAAAAAAAABZQAAAAAAAAAAAAAAAAAAAAAAAAAAAAABZQAAAAAAAAAAAAAAAAAAAWUAAAAAAAAAAAAAAAAAAAElAAAAAAAAAAAAAAAAAAAAAAAAAAAAAAFlAAAAAAAAASUAAAAAAAAAAAAAAAAAAAAAAAAAAAAAAWUAAAAAAAABJQAAAAAAAAAAAAAAAAAAAWUAAAAAAAAAAAAAAAAAAAFlAqqqqqqqqUEAAAAAAAAAAAAAAAAAAAAAAAAAAAAAAAAAAAAAAAABZQAAAAAAAAFlAAAAAAAAAWUAAAAAAAABZQAAAAAAAAFlAAAAAAAAAWUAAAAAAAAAAAAAAAAAAAAAAAAAAAAAAAAAAAAAAAABZQAAAAAAAAAAAAAAAAAAAWUAAAAAAAABJQAAAAAAAAAAAAAAAAAAASUAAAAAAAAAAAAAAAAAAAAAAAAAAAAAAAAAAAAAAAAAAAAAAAAAAAElAAAAAAAAAWUAAAAAAAAAAAAAAAAAAAFlAAAAAAAAAAAAAAAAAAABJQAAAAAAAAElAAAAAAAAAAAAAAAAAAAAAAKqqqqqqqlBAAAAAAAAAAAAAAAAAAABJQAAAAAAAAFlAAAAAAAAAAAAAAAAAAABZQAAAAAAAAAAAAAAAAAAAAAAAAAAAAAAAAAAAAAAAAFlAAAAAAAAAWUAAAAAAAAAAAAAAAAAAAAAAAAAAAAAAAAAAAAAAAAAAAAAAAAAAAAAAAAAAAAAAAAAAAAAAAAAAAAAAAAAAAAAAAAAAAAAASUAAAAAAAAAAAAAAAAAAAFlAAAAAAAAASUAAAAAAAABZQAAAAAAAAFlAAAAAAAAAAAAAAAAAAAAAAAAAAAAAAAAAAAAAAAAAAAAAAAAAAABJQAAAAAAAAAAAAAAAAAAASUAAAAAAAAAAAAAAAAAAAAAAAAAAAAAAAAAAAAAAAABZQAAAAAAAAFlAAAAAAAAAAAAAAAAAAAAAAAAAAAAAAFlAqqqqqqqqUEAAAAAAAABZQAAAAAAAAAAAAAAAAAAASUAAAAAAAABZQAAAAAAAAAAAAAAAAAAAAAAAAAAAAABJQAAAAAAAAFlAAAAAAAAAAAAAAAAAAAAAAAAAAAAAAFlAAAAAAAAAAAAAAAAAAABZQAAAAAAAAElAAAAAAAAAAAAAAAAAAAAAAAAAAAAAAAAAAAAAAAAAAAAAAAAAAABZQAAAAAAAAAAAAAAAAAAAWUA=",
          "dtype": "f8"
         },
         "yaxis": "y"
        },
        {
         "marker": {
          "opacity": 0.6
         },
         "mode": "markers",
         "name": "Effective FG%",
         "type": "scatter",
         "x": {
          "bdata": "fe+IfwKP4D90Efrwe5/gP2bNjdf5OeE/iKUhW3T84D/G4UR9QyPgP4avaFh8d+I/BdXe9qrf4T8YXeZRnarhP6AhvcdidOA/+WIVSdIp4T9/4t4ExkfiPwR0/UdaAeA/v/yfCOIS4T+l+rEzqqLfP0w+eezESuE/VROyslSh4D/o/SrfVq7fP9z8Hw+exeA/OzGKXSf44D8RoTYS5gThP2Eak4TpTOI/ZHG1JoFf4T//rygUO4HgPwsGe/S9N+E/S7ya+5m+4T882EM37wjhP5D5Ran5eOA/ztmv5X784D/jZo7t4TDhP5y1gFRKweA/OHqH9/Ts4D8lpcW/kirgPyK95wnMkOA/GRwVMFYi4j/kC3HVUubgP86GH+Lsz+E/7UM5ESIV4D9OGwFIdDThP1xiry+FJ+E/LT7Zmz+k4D9QvR/OwO7gP9iZGuj2beI/lEs96VL73j97blbpKFvhP5ECqZkDrt8/BmxWtVr14T/SvjCvMevgP2/xSmJBTOE/a9RCjnKj4T8zRx/NvqvhPw+r+dT8T+A/zCElIDfR4T84KZ/aKlzhP1aLYAo3j+A/KlCzyXir4D+GJTiPuXrhP9KiwtgU4t8/qrZZ6TRL4j/bGLQ+i6HgP4kmGa4E6+A/y+NN2olB4D/E+VUfhpveP/z4uq2MmeA/iZ3fS2xx4T+a/QQ6pNvgPxhvRp60VuE/Im6LRaxZ4D89p5ns/NvhP2TDxEmPmOA/NpcpeufH4D8HZBOyEOHgP+5s/1GH0uA/EMX6/xgh4D8EJwfQZHPiPzp8CY0T6+A/KB/+s5u+4D+pvd9PzrjgP5zlIPGwUeA/YhRiQu+F3z/kodM18JrgP54RnZspNeA/3Xn461xC4D/48VnckQXhPxUvVyNNvt8/V1pDzU9v4T+OeU+Qh9ngP9AF6Dxm6t8/+aFgkr1H4T+4f9bmi/jfP5u/Wpf4xN4/bPn0GrVH4D9Y2aMParThP/x55tMMruA/r39zjRHi3j8yRhOsqhfhPz10qYHjg+A/BZaOPNsO4T93IxT28ZDhP/pK6Qmza+A/7v+Nv+0d3j88DpJqMvLiPwrWiXnAmeE/maaAGgAw4T80Q40wwuThP+FsBz5AheE/LcFFZLJe4D/2Sg9XNcfhP2ciwAZQjeE/libvISql4D+BWzZuWoHgP3B7p+ABveE/rdH5bjMk4T/4DMqT1GfhP5/7SrggyOE/G4zdOgc54j9crWhNpfniP3kfi80FIt8/ixybEh4C4T8lwq2O+GziP46R8bz7N+A/xBGvJVEP4D+7rtYVZyvhP9degZZvseE/jGb9+y5a4j9WV13lXuLgP4ELC9E8fuM/p9+5Zw644T/M1fScEuPhP9y0VYY6/eE/OusDqK4k4j+p2OOS1szfP5+GCUblCuA/6zdVSl9o4D8qBZMK9TbhPyrQDAVSKOA/lARmbauE4j8aCXYPEBzgPy7K3/exPeE/TkaYdf+J4T9HVpWSnF/gP5H+0mMi1OA/d6we2XtU4T+866vfOcnfPwUjF89jPOE/MODQbT074j8DxDMt4czhP+zAh+63u+A/8aNDwWIL4D+PXSMqa2jfPycNkKVfjeA/T8jWFGIz4D/LU8Tf73ThPxfrwJx3xd8/I3SnDTAJ4T9ysQNai+LgP8X1U78tFOA/Ildc8Ii44T93KNKcHhThP/8VxZ2sHeA/6FVcbYc84T/j833fLl7gP98xnD8f3+E/2DBRjDIB4D+ABngswYbgP3E7Phx83+A/6pTWJsfF4T+z8WSoTEzhP4ioMO32juA/YdysPWqd4j8lHLx1fFvhP8ep+tji6uE/pwbK198q4j/4hb7jn+TgP3AlnPgXDuE/9D8RZwI54T+0zTPA973gP6jHDs61gOI/MU9872104T9jOgUkuL3gPxJ7RWEBZeA/s2rizbai3j/vZYqbrEPiP6vkE4VmE+E/fFduWLZo4D8/ooTY1TzhP9knoITXoOA/e3emDR/z3T/YyEOwIZDiP6dKvcs9TuA/qgLTx2Vh4T/DEd/D+rjgP8l2iA2XweA/2LXvqG+K3j84ypFVyPXgP6hT7r8lzuA/RbUOKEVE4D+NRy5KwLTgP70gp1bt8eE/a40vPo0T4j+32PA4sEriP8C00XUg9OE/PMo2gD+C4T/oaw07IbXgP8oO3UMO0eA/D6gU440e4z/dBpDRj/DgP+Qn0WgLm+E/puhEgSBe4D/DQTM9JDXhP00a/Ge49OI/jnPt2fkk4T/1HzqxodvhPzYwKuxkd+A/LCMMP/xG4T9oYFFLeyfgP4mmAGH3+uI/shZF2ObX4D/6WIn6Cv/gP9G0KoKbuuA/AXPb8Vnh4j/4b+9QbvrgP+X4FCOn6+A/G6gGYNNK4D8sPkuSW3HgP2pXz2mjleE/wpVrvsCD4T/XosLofobgP0Xvl3MOiOA/tsaR8AE04D9evskRQh3gPwAsd/jsGeE//IEdhwmX4D+O5nfwKCDiP5zcSqJRw+A/bmVMYnEn4j+MVxEsw43hP8yYFuuObuE/+YnQcRJi4D/apyudPqLhP55psuGzTeI/tymS4W703z/k+spduQThP22Q81qjuOA/EU7D2T/J4T+DDCwQh5fhPzbUaxltb+E/gm+qWr1h4j9ykQy5ToDhPwKMR3ekaeI/Q8rCsXVg4D8lfA1i8tviPxuD+9XZsOE/lAcbTyEW4T+1HxvN64/gP2TIutIobN8/WDyE+g9I4D8MCqxxObjgP9Qdeb/7GN8/DjbdoxgE4D/kkFm61ojhP9btun6lqeI/xLxePng14T/m5w7xeHzhP+mWZqY5rN8/vs5u/xJw4D/7GhXdZPHhP8gLRSiYu+E/ClEOq31T4T8=",
          "dtype": "f8"
         },
         "xaxis": "x2",
         "y": {
          "bdata": "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",
          "dtype": "f8"
         },
         "yaxis": "y2"
        },
        {
         "marker": {
          "opacity": 0.6
         },
         "mode": "markers",
         "name": "Assist/TO Ratio",
         "type": "scatter",
         "x": {
          "bdata": "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",
          "dtype": "f8"
         },
         "xaxis": "x3",
         "y": {
          "bdata": "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",
          "dtype": "f8"
         },
         "yaxis": "y3"
        },
        {
         "marker": {
          "opacity": 0.6
         },
         "mode": "markers",
         "name": "Points per FGA",
         "type": "scatter",
         "x": {
          "bdata": "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",
          "dtype": "f8"
         },
         "xaxis": "x4",
         "y": {
          "bdata": "vJV9DqkJ9j8AAAAAAIDvP/zAD/zAD+w/BOto8z7F9T/EVBl9zKvyP5zUfXlsRfA/9zTCck8j9D+CdbR5n+LyPz9/Xb9W+fA/27Zt27Zt9T/kOI7jOI7zP1LiZ5T4GfU/16NwPQrX8z9Hm/cpLhnyP57YiZ3Yie0/Ccs9jbDc8z+PrQgaTuruP76E9hLaS/g/CtejcD0K9z+4HoXrUbj2P4DRUQTik/Q/JEbhYl+h9D8AAAAAAADwP7Hc0wjLPfU/4meU+Bkl7j+bbLLJJpv0PwAAAAAAwPA/WchCFrKQ9T/8K36pdBP3P7/v+77v++4/t23btm3b7j/MDRyF347xPyVJkiRJkvQ/SJVli9KO9D9iJ3ZiJ3byP/ahsT401vc/6aKLLrro8j/7HFITjLfyP+osprOYzvI/9EIv9EIv9D+yySabbLLxPwAAAAAAAO4/aC+hvYT28j+8lX0OqQn2PwT3EdxHcO8/chzHcRzH8T8VlwzBOtrsP2RqYO+YGvQ/Kme38Ksx8T9PIyz3NMLyP33Lt3zLt/Q/YXMg0Qqb8z/5a3bUImT2Pypnt/CrMfE/L6fg5RS87D9fHlsRNJz0P3epJ+O3S+0/TyMs9zTC8j/kRm7kRm70PxbTWUxnMe0/3ciN3MiN7D8MmMaAaQz0Pw8PDw8PD/c/kyuIyRXE9D/HBj/c84vxP9PS0tLS0vI/VAw4Wt999j+3bdu2bdvyP1VVVVVVVfc/WO5phOWe9j92Xdd1Xdf1P3DQJ2+zjPM/1AjLPY2w7D/ccMMNN9z0P2644YYbbvE/+OCDDz74+D+Yx1YEDSf1P9pkk0022fA/v/wkGMVn8j85BS+n4OX0PwAAAAAAAPM/dHLh/6Cb9D/l3VTrdKr0P7gehetRuPY/GiV+Romf8T/jkcCSUsP1P1VVVVVVVfE/no36zkZ99z9kZGRkZGT0P7dt27Zt2/I/tbS0tLS07D9Bw0ndl8f2Py+66KKLLvI/ob2E9hLa8z8AAAAAAAD0PyEIgiAIgvA/9zTCck8D9D8/6ZM+6ZPwP/pdLW7CnPA/ZGRkZGRk9D+VUkoppZTyPzWek8i/6/Q/ma5MV6Yr8D/XWmuttdbyP+/u7u7u7vI/sRM7sRM78T9NT+XLyFHzP2isD431ofE/rPdA+oa39T8cASntRkD0Px4eHh4eHvY/nN70pje98T+wjjbvU1zyPwAAAAAAwPE/QGUEvZAD9D8AAAAAAADxP3LFdZOaKPI/SZIkSZIk8T/3EtpLaC/xPxdddNFFF+0/gh/4gR/48T9JkiRJkiT5P355bEXQcPI/fnlsRdBw8j8lSZIkSZLwPyN0hdAVQvc/JUmSJEmS9D/Urp/EcKfzP5jQXkJ7Ce0/vJV9DqkJ9j85juM4juPwP83MzMzMzOw/hetRuB6F8z/88tiKoOH0Pyp4OQUvp/A/hOWeRlju8T806EfpwD30Pxo84DoRk/E/wxs7VUCE/D81sHdMDeztPyd1Xx5bEfQ/BXlKkKcE+T8AAAAAAADwPxAEQRAEQfA/09LS0tLS8j/v7u7u7u7uPznpWHapsPE/drTCjcUc8z/Qcv4s50/yP9LmfYpLhvA//L7v+77v6z8+6wZT5LPuP9+w9g1r3/A/L6fg5RS87D8vob2E9hLyP1/ohV7ohe4/q6qqqqqq8D+DgoKCgoLyP+E+gvsI7vM/XkN5DeU19D/NzMzMzMzsPwAAAAAAAPQ/JUmSJEmS9D/oeZ7neZ73P9hQXkN5DfU/NWKD3Lhg8j9+eWxF0HDyP+/u7u7u7u4/AAAAAAAA+D/GgGkMmMb0P1SCPCXIU/I/Y4wxxhhj9D8LmwOJVtjsP/xz4tKDm/Y/H0pPubYB8z+iFTYHEq3wP6uqqqqqqvM/AAAAAAAA8T/E5vF8qdXzP341JtIDlfM/juM4juM49j/jWdFIwDf3P9QIyz2NsPQ/Yid2Yid29j9TSimllFLyPyXIU4I8Jfg/x3Ecx3Ec5z8AAAAAAMDzPzi96U1vevM/zCl4OQUv9z/Y9LnkGy/0P4ZhGIZhGPY/eIjjAQy67j+e2Imd2In1PwAAAAAAwPI/ikuGYB1t7j9xPQrXo3DtP8dxHMdxHPQ/zZ/l/FnO9j/d0wjLPY3wP3UW01lMZ/E/7+7u7u7u7j8wu9c6SarxPw8Iz9pr+vM/0UUXXXTR9T8AAAAAAIDrP5kSSZc2HvU/WGMiPVA56z/wIOpJiULxP1uwBVuwBfs/MN7KPofU9D9KKaWUUkr5Py+66KKLLvI/VVVVVVVV8T8AAAAAAAD0PzWBwslYE/g/U0oppZRS+j9TK7VSK7XyPz6NsNzTCPM/P8UlQ7CO9j8UO7ETO7HzP1VVVVVVVfU/CCGEEEII8T/l7BZ+NSbyP6WUUkoppfQ/e1GsF8V68z+KndiJndjxP6211lprrfU/afM+xSVD8D+FXaVUUOf2P19CewntJfQ/IQtZyEIW8j9mZmZmZmbuP8EWbMEWbPE/aC+hvYT28j+woKTj09f0PyVJkiRJkvA/bLmx5caW8D+x3NMIyz31P4qd2Imd2PU/rDGRHqic7T9I4XoUrkf5P/RCL/RCL/Q/dNFFF1108T/5GSV+RonvP79h7RvWvvE/db92ATUd9D9DeQ3lNZT3P9QIyz2NsPQ/yUdRGG5r8z8IKme38KvxP05vetOb3vQ/JUmSJEmS7D8vrH6mI/b1PzeYIp91g/E/Qh3UQR3U8T9vZZ9DaoLxPxzHcRzHcfA/AAAAAAAA8D80nNR9eWz1P8p6jsl6jvM/AAAAAACA8D8tprOYzmLqP1paWlpaWuo//AjuI7iP8D9u27Zt27bzPzmO4ziO4/A/6Hme53me9z8=",
          "dtype": "f8"
         },
         "yaxis": "y4"
        }
       ],
       "layout": {
        "annotations": [
         {
          "font": {
           "size": 16
          },
          "showarrow": false,
          "text": "Regular Season vs Tournament Win Percentage",
          "x": 0.225,
          "xanchor": "center",
          "xref": "paper",
          "y": 1,
          "yanchor": "bottom",
          "yref": "paper"
         },
         {
          "font": {
           "size": 16
          },
          "showarrow": false,
          "text": "Regular Season vs Tournament Effective FG%",
          "x": 0.775,
          "xanchor": "center",
          "xref": "paper",
          "y": 1,
          "yanchor": "bottom",
          "yref": "paper"
         },
         {
          "font": {
           "size": 16
          },
          "showarrow": false,
          "text": "Regular Season vs Tournament Assist/TO Ratio",
          "x": 0.225,
          "xanchor": "center",
          "xref": "paper",
          "y": 0.375,
          "yanchor": "bottom",
          "yref": "paper"
         },
         {
          "font": {
           "size": 16
          },
          "showarrow": false,
          "text": "Regular Season vs Tournament Scoring Efficiency",
          "x": 0.775,
          "xanchor": "center",
          "xref": "paper",
          "y": 0.375,
          "yanchor": "bottom",
          "yref": "paper"
         },
         {
          "showarrow": false,
          "text": "Correlation: 0.14",
          "x": 0.05,
          "xref": "x",
          "y": 0.95,
          "yref": "y"
         },
         {
          "showarrow": false,
          "text": "Correlation: 0.27",
          "x": 0.05,
          "xref": "x2",
          "y": 0.95,
          "yref": "y2"
         },
         {
          "showarrow": false,
          "text": "Correlation: 0.23",
          "x": 0.05,
          "xref": "x3",
          "y": 0.95,
          "yref": "y3"
         },
         {
          "showarrow": false,
          "text": "Correlation: 0.24",
          "x": 0.05,
          "xref": "x4",
          "y": 0.95,
          "yref": "y4"
         }
        ],
        "height": 800,
        "showlegend": false,
        "template": {
         "data": {
          "bar": [
           {
            "error_x": {
             "color": "#2a3f5f"
            },
            "error_y": {
             "color": "#2a3f5f"
            },
            "marker": {
             "line": {
              "color": "white",
              "width": 0.5
             },
             "pattern": {
              "fillmode": "overlay",
              "size": 10,
              "solidity": 0.2
             }
            },
            "type": "bar"
           }
          ],
          "barpolar": [
           {
            "marker": {
             "line": {
              "color": "white",
              "width": 0.5
             },
             "pattern": {
              "fillmode": "overlay",
              "size": 10,
              "solidity": 0.2
             }
            },
            "type": "barpolar"
           }
          ],
          "carpet": [
           {
            "aaxis": {
             "endlinecolor": "#2a3f5f",
             "gridcolor": "#C8D4E3",
             "linecolor": "#C8D4E3",
             "minorgridcolor": "#C8D4E3",
             "startlinecolor": "#2a3f5f"
            },
            "baxis": {
             "endlinecolor": "#2a3f5f",
             "gridcolor": "#C8D4E3",
             "linecolor": "#C8D4E3",
             "minorgridcolor": "#C8D4E3",
             "startlinecolor": "#2a3f5f"
            },
            "type": "carpet"
           }
          ],
          "choropleth": [
           {
            "colorbar": {
             "outlinewidth": 0,
             "ticks": ""
            },
            "type": "choropleth"
           }
          ],
          "contour": [
           {
            "colorbar": {
             "outlinewidth": 0,
             "ticks": ""
            },
            "colorscale": [
             [
              0,
              "#0d0887"
             ],
             [
              0.1111111111111111,
              "#46039f"
             ],
             [
              0.2222222222222222,
              "#7201a8"
             ],
             [
              0.3333333333333333,
              "#9c179e"
             ],
             [
              0.4444444444444444,
              "#bd3786"
             ],
             [
              0.5555555555555556,
              "#d8576b"
             ],
             [
              0.6666666666666666,
              "#ed7953"
             ],
             [
              0.7777777777777778,
              "#fb9f3a"
             ],
             [
              0.8888888888888888,
              "#fdca26"
             ],
             [
              1,
              "#f0f921"
             ]
            ],
            "type": "contour"
           }
          ],
          "contourcarpet": [
           {
            "colorbar": {
             "outlinewidth": 0,
             "ticks": ""
            },
            "type": "contourcarpet"
           }
          ],
          "heatmap": [
           {
            "colorbar": {
             "outlinewidth": 0,
             "ticks": ""
            },
            "colorscale": [
             [
              0,
              "#0d0887"
             ],
             [
              0.1111111111111111,
              "#46039f"
             ],
             [
              0.2222222222222222,
              "#7201a8"
             ],
             [
              0.3333333333333333,
              "#9c179e"
             ],
             [
              0.4444444444444444,
              "#bd3786"
             ],
             [
              0.5555555555555556,
              "#d8576b"
             ],
             [
              0.6666666666666666,
              "#ed7953"
             ],
             [
              0.7777777777777778,
              "#fb9f3a"
             ],
             [
              0.8888888888888888,
              "#fdca26"
             ],
             [
              1,
              "#f0f921"
             ]
            ],
            "type": "heatmap"
           }
          ],
          "histogram": [
           {
            "marker": {
             "pattern": {
              "fillmode": "overlay",
              "size": 10,
              "solidity": 0.2
             }
            },
            "type": "histogram"
           }
          ],
          "histogram2d": [
           {
            "colorbar": {
             "outlinewidth": 0,
             "ticks": ""
            },
            "colorscale": [
             [
              0,
              "#0d0887"
             ],
             [
              0.1111111111111111,
              "#46039f"
             ],
             [
              0.2222222222222222,
              "#7201a8"
             ],
             [
              0.3333333333333333,
              "#9c179e"
             ],
             [
              0.4444444444444444,
              "#bd3786"
             ],
             [
              0.5555555555555556,
              "#d8576b"
             ],
             [
              0.6666666666666666,
              "#ed7953"
             ],
             [
              0.7777777777777778,
              "#fb9f3a"
             ],
             [
              0.8888888888888888,
              "#fdca26"
             ],
             [
              1,
              "#f0f921"
             ]
            ],
            "type": "histogram2d"
           }
          ],
          "histogram2dcontour": [
           {
            "colorbar": {
             "outlinewidth": 0,
             "ticks": ""
            },
            "colorscale": [
             [
              0,
              "#0d0887"
             ],
             [
              0.1111111111111111,
              "#46039f"
             ],
             [
              0.2222222222222222,
              "#7201a8"
             ],
             [
              0.3333333333333333,
              "#9c179e"
             ],
             [
              0.4444444444444444,
              "#bd3786"
             ],
             [
              0.5555555555555556,
              "#d8576b"
             ],
             [
              0.6666666666666666,
              "#ed7953"
             ],
             [
              0.7777777777777778,
              "#fb9f3a"
             ],
             [
              0.8888888888888888,
              "#fdca26"
             ],
             [
              1,
              "#f0f921"
             ]
            ],
            "type": "histogram2dcontour"
           }
          ],
          "mesh3d": [
           {
            "colorbar": {
             "outlinewidth": 0,
             "ticks": ""
            },
            "type": "mesh3d"
           }
          ],
          "parcoords": [
           {
            "line": {
             "colorbar": {
              "outlinewidth": 0,
              "ticks": ""
             }
            },
            "type": "parcoords"
           }
          ],
          "pie": [
           {
            "automargin": true,
            "type": "pie"
           }
          ],
          "scatter": [
           {
            "fillpattern": {
             "fillmode": "overlay",
             "size": 10,
             "solidity": 0.2
            },
            "type": "scatter"
           }
          ],
          "scatter3d": [
           {
            "line": {
             "colorbar": {
              "outlinewidth": 0,
              "ticks": ""
             }
            },
            "marker": {
             "colorbar": {
              "outlinewidth": 0,
              "ticks": ""
             }
            },
            "type": "scatter3d"
           }
          ],
          "scattercarpet": [
           {
            "marker": {
             "colorbar": {
              "outlinewidth": 0,
              "ticks": ""
             }
            },
            "type": "scattercarpet"
           }
          ],
          "scattergeo": [
           {
            "marker": {
             "colorbar": {
              "outlinewidth": 0,
              "ticks": ""
             }
            },
            "type": "scattergeo"
           }
          ],
          "scattergl": [
           {
            "marker": {
             "colorbar": {
              "outlinewidth": 0,
              "ticks": ""
             }
            },
            "type": "scattergl"
           }
          ],
          "scattermap": [
           {
            "marker": {
             "colorbar": {
              "outlinewidth": 0,
              "ticks": ""
             }
            },
            "type": "scattermap"
           }
          ],
          "scattermapbox": [
           {
            "marker": {
             "colorbar": {
              "outlinewidth": 0,
              "ticks": ""
             }
            },
            "type": "scattermapbox"
           }
          ],
          "scatterpolar": [
           {
            "marker": {
             "colorbar": {
              "outlinewidth": 0,
              "ticks": ""
             }
            },
            "type": "scatterpolar"
           }
          ],
          "scatterpolargl": [
           {
            "marker": {
             "colorbar": {
              "outlinewidth": 0,
              "ticks": ""
             }
            },
            "type": "scatterpolargl"
           }
          ],
          "scatterternary": [
           {
            "marker": {
             "colorbar": {
              "outlinewidth": 0,
              "ticks": ""
             }
            },
            "type": "scatterternary"
           }
          ],
          "surface": [
           {
            "colorbar": {
             "outlinewidth": 0,
             "ticks": ""
            },
            "colorscale": [
             [
              0,
              "#0d0887"
             ],
             [
              0.1111111111111111,
              "#46039f"
             ],
             [
              0.2222222222222222,
              "#7201a8"
             ],
             [
              0.3333333333333333,
              "#9c179e"
             ],
             [
              0.4444444444444444,
              "#bd3786"
             ],
             [
              0.5555555555555556,
              "#d8576b"
             ],
             [
              0.6666666666666666,
              "#ed7953"
             ],
             [
              0.7777777777777778,
              "#fb9f3a"
             ],
             [
              0.8888888888888888,
              "#fdca26"
             ],
             [
              1,
              "#f0f921"
             ]
            ],
            "type": "surface"
           }
          ],
          "table": [
           {
            "cells": {
             "fill": {
              "color": "#EBF0F8"
             },
             "line": {
              "color": "white"
             }
            },
            "header": {
             "fill": {
              "color": "#C8D4E3"
             },
             "line": {
              "color": "white"
             }
            },
            "type": "table"
           }
          ]
         },
         "layout": {
          "annotationdefaults": {
           "arrowcolor": "#2a3f5f",
           "arrowhead": 0,
           "arrowwidth": 1
          },
          "autotypenumbers": "strict",
          "coloraxis": {
           "colorbar": {
            "outlinewidth": 0,
            "ticks": ""
           }
          },
          "colorscale": {
           "diverging": [
            [
             0,
             "#8e0152"
            ],
            [
             0.1,
             "#c51b7d"
            ],
            [
             0.2,
             "#de77ae"
            ],
            [
             0.3,
             "#f1b6da"
            ],
            [
             0.4,
             "#fde0ef"
            ],
            [
             0.5,
             "#f7f7f7"
            ],
            [
             0.6,
             "#e6f5d0"
            ],
            [
             0.7,
             "#b8e186"
            ],
            [
             0.8,
             "#7fbc41"
            ],
            [
             0.9,
             "#4d9221"
            ],
            [
             1,
             "#276419"
            ]
           ],
           "sequential": [
            [
             0,
             "#0d0887"
            ],
            [
             0.1111111111111111,
             "#46039f"
            ],
            [
             0.2222222222222222,
             "#7201a8"
            ],
            [
             0.3333333333333333,
             "#9c179e"
            ],
            [
             0.4444444444444444,
             "#bd3786"
            ],
            [
             0.5555555555555556,
             "#d8576b"
            ],
            [
             0.6666666666666666,
             "#ed7953"
            ],
            [
             0.7777777777777778,
             "#fb9f3a"
            ],
            [
             0.8888888888888888,
             "#fdca26"
            ],
            [
             1,
             "#f0f921"
            ]
           ],
           "sequentialminus": [
            [
             0,
             "#0d0887"
            ],
            [
             0.1111111111111111,
             "#46039f"
            ],
            [
             0.2222222222222222,
             "#7201a8"
            ],
            [
             0.3333333333333333,
             "#9c179e"
            ],
            [
             0.4444444444444444,
             "#bd3786"
            ],
            [
             0.5555555555555556,
             "#d8576b"
            ],
            [
             0.6666666666666666,
             "#ed7953"
            ],
            [
             0.7777777777777778,
             "#fb9f3a"
            ],
            [
             0.8888888888888888,
             "#fdca26"
            ],
            [
             1,
             "#f0f921"
            ]
           ]
          },
          "colorway": [
           "#636efa",
           "#EF553B",
           "#00cc96",
           "#ab63fa",
           "#FFA15A",
           "#19d3f3",
           "#FF6692",
           "#B6E880",
           "#FF97FF",
           "#FECB52"
          ],
          "font": {
           "color": "#2a3f5f"
          },
          "geo": {
           "bgcolor": "white",
           "lakecolor": "white",
           "landcolor": "white",
           "showlakes": true,
           "showland": true,
           "subunitcolor": "#C8D4E3"
          },
          "hoverlabel": {
           "align": "left"
          },
          "hovermode": "closest",
          "mapbox": {
           "style": "light"
          },
          "paper_bgcolor": "white",
          "plot_bgcolor": "white",
          "polar": {
           "angularaxis": {
            "gridcolor": "#EBF0F8",
            "linecolor": "#EBF0F8",
            "ticks": ""
           },
           "bgcolor": "white",
           "radialaxis": {
            "gridcolor": "#EBF0F8",
            "linecolor": "#EBF0F8",
            "ticks": ""
           }
          },
          "scene": {
           "xaxis": {
            "backgroundcolor": "white",
            "gridcolor": "#DFE8F3",
            "gridwidth": 2,
            "linecolor": "#EBF0F8",
            "showbackground": true,
            "ticks": "",
            "zerolinecolor": "#EBF0F8"
           },
           "yaxis": {
            "backgroundcolor": "white",
            "gridcolor": "#DFE8F3",
            "gridwidth": 2,
            "linecolor": "#EBF0F8",
            "showbackground": true,
            "ticks": "",
            "zerolinecolor": "#EBF0F8"
           },
           "zaxis": {
            "backgroundcolor": "white",
            "gridcolor": "#DFE8F3",
            "gridwidth": 2,
            "linecolor": "#EBF0F8",
            "showbackground": true,
            "ticks": "",
            "zerolinecolor": "#EBF0F8"
           }
          },
          "shapedefaults": {
           "line": {
            "color": "#2a3f5f"
           }
          },
          "ternary": {
           "aaxis": {
            "gridcolor": "#DFE8F3",
            "linecolor": "#A2B1C6",
            "ticks": ""
           },
           "baxis": {
            "gridcolor": "#DFE8F3",
            "linecolor": "#A2B1C6",
            "ticks": ""
           },
           "bgcolor": "white",
           "caxis": {
            "gridcolor": "#DFE8F3",
            "linecolor": "#A2B1C6",
            "ticks": ""
           }
          },
          "title": {
           "x": 0.05
          },
          "xaxis": {
           "automargin": true,
           "gridcolor": "#EBF0F8",
           "linecolor": "#EBF0F8",
           "ticks": "",
           "title": {
            "standoff": 15
           },
           "zerolinecolor": "#EBF0F8",
           "zerolinewidth": 2
          },
          "yaxis": {
           "automargin": true,
           "gridcolor": "#EBF0F8",
           "linecolor": "#EBF0F8",
           "ticks": "",
           "title": {
            "standoff": 15
           },
           "zerolinecolor": "#EBF0F8",
           "zerolinewidth": 2
          }
         }
        },
        "title": {
         "text": "Regular Season vs Tournament Performance Metrics"
        },
        "width": 1000,
        "xaxis": {
         "anchor": "y",
         "domain": [
          0,
          0.45
         ],
         "title": {
          "text": "Regular Season Win %"
         }
        },
        "xaxis2": {
         "anchor": "y2",
         "domain": [
          0.55,
          1
         ],
         "title": {
          "text": "Regular Season eFG%"
         }
        },
        "xaxis3": {
         "anchor": "y3",
         "domain": [
          0,
          0.45
         ],
         "title": {
          "text": "Regular Season Assist/TO Ratio"
         }
        },
        "xaxis4": {
         "anchor": "y4",
         "domain": [
          0.55,
          1
         ],
         "title": {
          "text": "Regular Season Points per FGA"
         }
        },
        "yaxis": {
         "anchor": "x",
         "domain": [
          0.625,
          1
         ],
         "title": {
          "text": "Tournament Win %"
         }
        },
        "yaxis2": {
         "anchor": "x2",
         "domain": [
          0.625,
          1
         ],
         "title": {
          "text": "Tournament eFG%"
         }
        },
        "yaxis3": {
         "anchor": "x3",
         "domain": [
          0,
          0.375
         ],
         "title": {
          "text": "Tournament Assist/TO Ratio"
         }
        },
        "yaxis4": {
         "anchor": "x4",
         "domain": [
          0,
          0.375
         ],
         "title": {
          "text": "Tournament Points per FGA"
         }
        }
       }
      }
     },
     "metadata": {},
     "output_type": "display_data"
    },
    {
     "name": "stdout",
     "output_type": "stream",
     "text": [
      "\n",
      "Calculating correlations between regular season and tournament performance...\n",
      "\n",
      "Top 15 metrics by correlation between regular season and tournament performance:\n"
     ]
    },
    {
     "data": {
      "text/html": [
       "<div>\n",
       "<style scoped>\n",
       "    .dataframe tbody tr th:only-of-type {\n",
       "        vertical-align: middle;\n",
       "    }\n",
       "\n",
       "    .dataframe tbody tr th {\n",
       "        vertical-align: top;\n",
       "    }\n",
       "\n",
       "    .dataframe thead th {\n",
       "        text-align: right;\n",
       "    }\n",
       "</style>\n",
       "<table border=\"1\" class=\"dataframe\">\n",
       "  <thead>\n",
       "    <tr style=\"text-align: right;\">\n",
       "      <th></th>\n",
       "      <th>Metric</th>\n",
       "      <th>Correlation</th>\n",
       "    </tr>\n",
       "  </thead>\n",
       "  <tbody>\n",
       "    <tr>\n",
       "      <th>0</th>\n",
       "      <td>season_right_mean</td>\n",
       "      <td>1.000000</td>\n",
       "    </tr>\n",
       "    <tr>\n",
       "      <th>1</th>\n",
       "      <td>blocks_mean</td>\n",
       "      <td>0.332060</td>\n",
       "    </tr>\n",
       "    <tr>\n",
       "      <th>2</th>\n",
       "      <td>flagrant_fouls_mean</td>\n",
       "      <td>NaN</td>\n",
       "    </tr>\n",
       "    <tr>\n",
       "      <th>3</th>\n",
       "      <td>flagrant_fouls_std</td>\n",
       "      <td>NaN</td>\n",
       "    </tr>\n",
       "    <tr>\n",
       "      <th>4</th>\n",
       "      <td>fouls_mean</td>\n",
       "      <td>0.474421</td>\n",
       "    </tr>\n",
       "    <tr>\n",
       "      <th>5</th>\n",
       "      <td>offensive_rebounds_mean</td>\n",
       "      <td>0.378141</td>\n",
       "    </tr>\n",
       "    <tr>\n",
       "      <th>6</th>\n",
       "      <td>season_type_mean</td>\n",
       "      <td>NaN</td>\n",
       "    </tr>\n",
       "    <tr>\n",
       "      <th>7</th>\n",
       "      <td>season_type_std</td>\n",
       "      <td>NaN</td>\n",
       "    </tr>\n",
       "    <tr>\n",
       "      <th>8</th>\n",
       "      <td>three_point_field_goals_attempted_mean</td>\n",
       "      <td>0.531187</td>\n",
       "    </tr>\n",
       "    <tr>\n",
       "      <th>9</th>\n",
       "      <td>total_rebounds_mean</td>\n",
       "      <td>0.490530</td>\n",
       "    </tr>\n",
       "    <tr>\n",
       "      <th>10</th>\n",
       "      <td>season_right_std</td>\n",
       "      <td>NaN</td>\n",
       "    </tr>\n",
       "    <tr>\n",
       "      <th>11</th>\n",
       "      <td>pace_proxy_mean</td>\n",
       "      <td>0.479915</td>\n",
       "    </tr>\n",
       "    <tr>\n",
       "      <th>12</th>\n",
       "      <td>three_pt_points_mean</td>\n",
       "      <td>0.416427</td>\n",
       "    </tr>\n",
       "    <tr>\n",
       "      <th>13</th>\n",
       "      <td>three_point_field_goals_made_mean</td>\n",
       "      <td>0.416427</td>\n",
       "    </tr>\n",
       "    <tr>\n",
       "      <th>14</th>\n",
       "      <td>pace_proxy_max</td>\n",
       "      <td>0.377183</td>\n",
       "    </tr>\n",
       "  </tbody>\n",
       "</table>\n",
       "</div>"
      ],
      "text/plain": [
       "                                    Metric  Correlation\n",
       "0                        season_right_mean     1.000000\n",
       "1                              blocks_mean     0.332060\n",
       "2                      flagrant_fouls_mean          NaN\n",
       "3                       flagrant_fouls_std          NaN\n",
       "4                               fouls_mean     0.474421\n",
       "5                  offensive_rebounds_mean     0.378141\n",
       "6                         season_type_mean          NaN\n",
       "7                          season_type_std          NaN\n",
       "8   three_point_field_goals_attempted_mean     0.531187\n",
       "9                      total_rebounds_mean     0.490530\n",
       "10                        season_right_std          NaN\n",
       "11                         pace_proxy_mean     0.479915\n",
       "12                    three_pt_points_mean     0.416427\n",
       "13       three_point_field_goals_made_mean     0.416427\n",
       "14                          pace_proxy_max     0.377183"
      ]
     },
     "metadata": {},
     "output_type": "display_data"
    },
    {
     "data": {
      "application/vnd.plotly.v1+json": {
       "config": {
        "plotlyServerURL": "https://plot.ly"
       },
       "data": [
        {
         "coloraxis": "coloraxis",
         "hovertemplate": "x: %{x}<br>y: %{y}<br>color: %{z}<extra></extra>",
         "name": "0",
         "texttemplate": "%{z}",
         "type": "heatmap",
         "x": [
          "reg_win_pct",
          "tourn_win_pct",
          "reg_team_score_mean",
          "tourn_team_score_mean",
          "reg_win_margin_mean",
          "tourn_win_margin_mean",
          "reg_efg_pct_mean",
          "tourn_efg_pct_mean",
          "reg_ts_pct_mean",
          "tourn_ts_pct_mean",
          "reg_ast_to_ratio_mean",
          "tourn_ast_to_ratio_mean",
          "reg_net_possessions_mean",
          "tourn_net_possessions_mean",
          "reg_points_per_fga_mean",
          "tourn_points_per_fga_mean",
          "reg_oreb_rate_mean",
          "tourn_oreb_rate_mean"
         ],
         "xaxis": "x",
         "y": [
          "reg_win_pct",
          "tourn_win_pct",
          "reg_team_score_mean",
          "tourn_team_score_mean",
          "reg_win_margin_mean",
          "tourn_win_margin_mean",
          "reg_efg_pct_mean",
          "tourn_efg_pct_mean",
          "reg_ts_pct_mean",
          "tourn_ts_pct_mean",
          "reg_ast_to_ratio_mean",
          "tourn_ast_to_ratio_mean",
          "reg_net_possessions_mean",
          "tourn_net_possessions_mean",
          "reg_points_per_fga_mean",
          "tourn_points_per_fga_mean",
          "reg_oreb_rate_mean",
          "tourn_oreb_rate_mean"
         ],
         "yaxis": "y",
         "z": {
          "bdata": "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",
          "dtype": "f8",
          "shape": "18, 18"
         }
        }
       ],
       "layout": {
        "coloraxis": {
         "cmax": 1,
         "cmin": -1,
         "colorscale": [
          [
           0,
           "rgb(5,48,97)"
          ],
          [
           0.1,
           "rgb(33,102,172)"
          ],
          [
           0.2,
           "rgb(67,147,195)"
          ],
          [
           0.3,
           "rgb(146,197,222)"
          ],
          [
           0.4,
           "rgb(209,229,240)"
          ],
          [
           0.5,
           "rgb(247,247,247)"
          ],
          [
           0.6,
           "rgb(253,219,199)"
          ],
          [
           0.7,
           "rgb(244,165,130)"
          ],
          [
           0.8,
           "rgb(214,96,77)"
          ],
          [
           0.9,
           "rgb(178,24,43)"
          ],
          [
           1,
           "rgb(103,0,31)"
          ]
         ]
        },
        "height": 800,
        "template": {
         "data": {
          "bar": [
           {
            "error_x": {
             "color": "#2a3f5f"
            },
            "error_y": {
             "color": "#2a3f5f"
            },
            "marker": {
             "line": {
              "color": "white",
              "width": 0.5
             },
             "pattern": {
              "fillmode": "overlay",
              "size": 10,
              "solidity": 0.2
             }
            },
            "type": "bar"
           }
          ],
          "barpolar": [
           {
            "marker": {
             "line": {
              "color": "white",
              "width": 0.5
             },
             "pattern": {
              "fillmode": "overlay",
              "size": 10,
              "solidity": 0.2
             }
            },
            "type": "barpolar"
           }
          ],
          "carpet": [
           {
            "aaxis": {
             "endlinecolor": "#2a3f5f",
             "gridcolor": "#C8D4E3",
             "linecolor": "#C8D4E3",
             "minorgridcolor": "#C8D4E3",
             "startlinecolor": "#2a3f5f"
            },
            "baxis": {
             "endlinecolor": "#2a3f5f",
             "gridcolor": "#C8D4E3",
             "linecolor": "#C8D4E3",
             "minorgridcolor": "#C8D4E3",
             "startlinecolor": "#2a3f5f"
            },
            "type": "carpet"
           }
          ],
          "choropleth": [
           {
            "colorbar": {
             "outlinewidth": 0,
             "ticks": ""
            },
            "type": "choropleth"
           }
          ],
          "contour": [
           {
            "colorbar": {
             "outlinewidth": 0,
             "ticks": ""
            },
            "colorscale": [
             [
              0,
              "#0d0887"
             ],
             [
              0.1111111111111111,
              "#46039f"
             ],
             [
              0.2222222222222222,
              "#7201a8"
             ],
             [
              0.3333333333333333,
              "#9c179e"
             ],
             [
              0.4444444444444444,
              "#bd3786"
             ],
             [
              0.5555555555555556,
              "#d8576b"
             ],
             [
              0.6666666666666666,
              "#ed7953"
             ],
             [
              0.7777777777777778,
              "#fb9f3a"
             ],
             [
              0.8888888888888888,
              "#fdca26"
             ],
             [
              1,
              "#f0f921"
             ]
            ],
            "type": "contour"
           }
          ],
          "contourcarpet": [
           {
            "colorbar": {
             "outlinewidth": 0,
             "ticks": ""
            },
            "type": "contourcarpet"
           }
          ],
          "heatmap": [
           {
            "colorbar": {
             "outlinewidth": 0,
             "ticks": ""
            },
            "colorscale": [
             [
              0,
              "#0d0887"
             ],
             [
              0.1111111111111111,
              "#46039f"
             ],
             [
              0.2222222222222222,
              "#7201a8"
             ],
             [
              0.3333333333333333,
              "#9c179e"
             ],
             [
              0.4444444444444444,
              "#bd3786"
             ],
             [
              0.5555555555555556,
              "#d8576b"
             ],
             [
              0.6666666666666666,
              "#ed7953"
             ],
             [
              0.7777777777777778,
              "#fb9f3a"
             ],
             [
              0.8888888888888888,
              "#fdca26"
             ],
             [
              1,
              "#f0f921"
             ]
            ],
            "type": "heatmap"
           }
          ],
          "histogram": [
           {
            "marker": {
             "pattern": {
              "fillmode": "overlay",
              "size": 10,
              "solidity": 0.2
             }
            },
            "type": "histogram"
           }
          ],
          "histogram2d": [
           {
            "colorbar": {
             "outlinewidth": 0,
             "ticks": ""
            },
            "colorscale": [
             [
              0,
              "#0d0887"
             ],
             [
              0.1111111111111111,
              "#46039f"
             ],
             [
              0.2222222222222222,
              "#7201a8"
             ],
             [
              0.3333333333333333,
              "#9c179e"
             ],
             [
              0.4444444444444444,
              "#bd3786"
             ],
             [
              0.5555555555555556,
              "#d8576b"
             ],
             [
              0.6666666666666666,
              "#ed7953"
             ],
             [
              0.7777777777777778,
              "#fb9f3a"
             ],
             [
              0.8888888888888888,
              "#fdca26"
             ],
             [
              1,
              "#f0f921"
             ]
            ],
            "type": "histogram2d"
           }
          ],
          "histogram2dcontour": [
           {
            "colorbar": {
             "outlinewidth": 0,
             "ticks": ""
            },
            "colorscale": [
             [
              0,
              "#0d0887"
             ],
             [
              0.1111111111111111,
              "#46039f"
             ],
             [
              0.2222222222222222,
              "#7201a8"
             ],
             [
              0.3333333333333333,
              "#9c179e"
             ],
             [
              0.4444444444444444,
              "#bd3786"
             ],
             [
              0.5555555555555556,
              "#d8576b"
             ],
             [
              0.6666666666666666,
              "#ed7953"
             ],
             [
              0.7777777777777778,
              "#fb9f3a"
             ],
             [
              0.8888888888888888,
              "#fdca26"
             ],
             [
              1,
              "#f0f921"
             ]
            ],
            "type": "histogram2dcontour"
           }
          ],
          "mesh3d": [
           {
            "colorbar": {
             "outlinewidth": 0,
             "ticks": ""
            },
            "type": "mesh3d"
           }
          ],
          "parcoords": [
           {
            "line": {
             "colorbar": {
              "outlinewidth": 0,
              "ticks": ""
             }
            },
            "type": "parcoords"
           }
          ],
          "pie": [
           {
            "automargin": true,
            "type": "pie"
           }
          ],
          "scatter": [
           {
            "fillpattern": {
             "fillmode": "overlay",
             "size": 10,
             "solidity": 0.2
            },
            "type": "scatter"
           }
          ],
          "scatter3d": [
           {
            "line": {
             "colorbar": {
              "outlinewidth": 0,
              "ticks": ""
             }
            },
            "marker": {
             "colorbar": {
              "outlinewidth": 0,
              "ticks": ""
             }
            },
            "type": "scatter3d"
           }
          ],
          "scattercarpet": [
           {
            "marker": {
             "colorbar": {
              "outlinewidth": 0,
              "ticks": ""
             }
            },
            "type": "scattercarpet"
           }
          ],
          "scattergeo": [
           {
            "marker": {
             "colorbar": {
              "outlinewidth": 0,
              "ticks": ""
             }
            },
            "type": "scattergeo"
           }
          ],
          "scattergl": [
           {
            "marker": {
             "colorbar": {
              "outlinewidth": 0,
              "ticks": ""
             }
            },
            "type": "scattergl"
           }
          ],
          "scattermap": [
           {
            "marker": {
             "colorbar": {
              "outlinewidth": 0,
              "ticks": ""
             }
            },
            "type": "scattermap"
           }
          ],
          "scattermapbox": [
           {
            "marker": {
             "colorbar": {
              "outlinewidth": 0,
              "ticks": ""
             }
            },
            "type": "scattermapbox"
           }
          ],
          "scatterpolar": [
           {
            "marker": {
             "colorbar": {
              "outlinewidth": 0,
              "ticks": ""
             }
            },
            "type": "scatterpolar"
           }
          ],
          "scatterpolargl": [
           {
            "marker": {
             "colorbar": {
              "outlinewidth": 0,
              "ticks": ""
             }
            },
            "type": "scatterpolargl"
           }
          ],
          "scatterternary": [
           {
            "marker": {
             "colorbar": {
              "outlinewidth": 0,
              "ticks": ""
             }
            },
            "type": "scatterternary"
           }
          ],
          "surface": [
           {
            "colorbar": {
             "outlinewidth": 0,
             "ticks": ""
            },
            "colorscale": [
             [
              0,
              "#0d0887"
             ],
             [
              0.1111111111111111,
              "#46039f"
             ],
             [
              0.2222222222222222,
              "#7201a8"
             ],
             [
              0.3333333333333333,
              "#9c179e"
             ],
             [
              0.4444444444444444,
              "#bd3786"
             ],
             [
              0.5555555555555556,
              "#d8576b"
             ],
             [
              0.6666666666666666,
              "#ed7953"
             ],
             [
              0.7777777777777778,
              "#fb9f3a"
             ],
             [
              0.8888888888888888,
              "#fdca26"
             ],
             [
              1,
              "#f0f921"
             ]
            ],
            "type": "surface"
           }
          ],
          "table": [
           {
            "cells": {
             "fill": {
              "color": "#EBF0F8"
             },
             "line": {
              "color": "white"
             }
            },
            "header": {
             "fill": {
              "color": "#C8D4E3"
             },
             "line": {
              "color": "white"
             }
            },
            "type": "table"
           }
          ]
         },
         "layout": {
          "annotationdefaults": {
           "arrowcolor": "#2a3f5f",
           "arrowhead": 0,
           "arrowwidth": 1
          },
          "autotypenumbers": "strict",
          "coloraxis": {
           "colorbar": {
            "outlinewidth": 0,
            "ticks": ""
           }
          },
          "colorscale": {
           "diverging": [
            [
             0,
             "#8e0152"
            ],
            [
             0.1,
             "#c51b7d"
            ],
            [
             0.2,
             "#de77ae"
            ],
            [
             0.3,
             "#f1b6da"
            ],
            [
             0.4,
             "#fde0ef"
            ],
            [
             0.5,
             "#f7f7f7"
            ],
            [
             0.6,
             "#e6f5d0"
            ],
            [
             0.7,
             "#b8e186"
            ],
            [
             0.8,
             "#7fbc41"
            ],
            [
             0.9,
             "#4d9221"
            ],
            [
             1,
             "#276419"
            ]
           ],
           "sequential": [
            [
             0,
             "#0d0887"
            ],
            [
             0.1111111111111111,
             "#46039f"
            ],
            [
             0.2222222222222222,
             "#7201a8"
            ],
            [
             0.3333333333333333,
             "#9c179e"
            ],
            [
             0.4444444444444444,
             "#bd3786"
            ],
            [
             0.5555555555555556,
             "#d8576b"
            ],
            [
             0.6666666666666666,
             "#ed7953"
            ],
            [
             0.7777777777777778,
             "#fb9f3a"
            ],
            [
             0.8888888888888888,
             "#fdca26"
            ],
            [
             1,
             "#f0f921"
            ]
           ],
           "sequentialminus": [
            [
             0,
             "#0d0887"
            ],
            [
             0.1111111111111111,
             "#46039f"
            ],
            [
             0.2222222222222222,
             "#7201a8"
            ],
            [
             0.3333333333333333,
             "#9c179e"
            ],
            [
             0.4444444444444444,
             "#bd3786"
            ],
            [
             0.5555555555555556,
             "#d8576b"
            ],
            [
             0.6666666666666666,
             "#ed7953"
            ],
            [
             0.7777777777777778,
             "#fb9f3a"
            ],
            [
             0.8888888888888888,
             "#fdca26"
            ],
            [
             1,
             "#f0f921"
            ]
           ]
          },
          "colorway": [
           "#636efa",
           "#EF553B",
           "#00cc96",
           "#ab63fa",
           "#FFA15A",
           "#19d3f3",
           "#FF6692",
           "#B6E880",
           "#FF97FF",
           "#FECB52"
          ],
          "font": {
           "color": "#2a3f5f"
          },
          "geo": {
           "bgcolor": "white",
           "lakecolor": "white",
           "landcolor": "white",
           "showlakes": true,
           "showland": true,
           "subunitcolor": "#C8D4E3"
          },
          "hoverlabel": {
           "align": "left"
          },
          "hovermode": "closest",
          "mapbox": {
           "style": "light"
          },
          "paper_bgcolor": "white",
          "plot_bgcolor": "white",
          "polar": {
           "angularaxis": {
            "gridcolor": "#EBF0F8",
            "linecolor": "#EBF0F8",
            "ticks": ""
           },
           "bgcolor": "white",
           "radialaxis": {
            "gridcolor": "#EBF0F8",
            "linecolor": "#EBF0F8",
            "ticks": ""
           }
          },
          "scene": {
           "xaxis": {
            "backgroundcolor": "white",
            "gridcolor": "#DFE8F3",
            "gridwidth": 2,
            "linecolor": "#EBF0F8",
            "showbackground": true,
            "ticks": "",
            "zerolinecolor": "#EBF0F8"
           },
           "yaxis": {
            "backgroundcolor": "white",
            "gridcolor": "#DFE8F3",
            "gridwidth": 2,
            "linecolor": "#EBF0F8",
            "showbackground": true,
            "ticks": "",
            "zerolinecolor": "#EBF0F8"
           },
           "zaxis": {
            "backgroundcolor": "white",
            "gridcolor": "#DFE8F3",
            "gridwidth": 2,
            "linecolor": "#EBF0F8",
            "showbackground": true,
            "ticks": "",
            "zerolinecolor": "#EBF0F8"
           }
          },
          "shapedefaults": {
           "line": {
            "color": "#2a3f5f"
           }
          },
          "ternary": {
           "aaxis": {
            "gridcolor": "#DFE8F3",
            "linecolor": "#A2B1C6",
            "ticks": ""
           },
           "baxis": {
            "gridcolor": "#DFE8F3",
            "linecolor": "#A2B1C6",
            "ticks": ""
           },
           "bgcolor": "white",
           "caxis": {
            "gridcolor": "#DFE8F3",
            "linecolor": "#A2B1C6",
            "ticks": ""
           }
          },
          "title": {
           "x": 0.05
          },
          "xaxis": {
           "automargin": true,
           "gridcolor": "#EBF0F8",
           "linecolor": "#EBF0F8",
           "ticks": "",
           "title": {
            "standoff": 15
           },
           "zerolinecolor": "#EBF0F8",
           "zerolinewidth": 2
          },
          "yaxis": {
           "automargin": true,
           "gridcolor": "#EBF0F8",
           "linecolor": "#EBF0F8",
           "ticks": "",
           "title": {
            "standoff": 15
           },
           "zerolinecolor": "#EBF0F8",
           "zerolinewidth": 2
          }
         }
        },
        "title": {
         "text": "Correlation Heatmap of Key Metrics"
        },
        "width": 900,
        "xaxis": {
         "anchor": "y",
         "constrain": "domain",
         "domain": [
          0,
          1
         ],
         "scaleanchor": "y"
        },
        "yaxis": {
         "anchor": "x",
         "autorange": "reversed",
         "constrain": "domain",
         "domain": [
          0,
          1
         ]
        }
       }
      }
     },
     "metadata": {},
     "output_type": "display_data"
    }
   ],
   "source": [
    "# Now calculate tournament stats (is_tournament=True) and compare with regular season\n",
    "try:\n",
    "    print(\"Calculating team season aggregates for tournament games...\")\n",
    "    tournament_stats = aggregate_team_season_stats(enriched_df, is_tournament_value=True)\n",
    "    \n",
    "    if tournament_stats is not None:\n",
    "        print(f\"\\nTournament stats shape: {tournament_stats.shape}\")\n",
    "        \n",
    "        # Show the distribution of games per team per season in the tournament\n",
    "        tournament_game_counts = tournament_stats.select(\"game_count\").to_series()\n",
    "        \n",
    "        print(f\"\\nTournament games per team distribution:\")\n",
    "        print(f\"Min: {tournament_game_counts.min()}, Max: {tournament_game_counts.max()}, Mean: {tournament_game_counts.mean():.1f}\")\n",
    "        \n",
    "        # Let's check if our current tournament identification needs refinement\n",
    "        # Distribution of games per month can help identify tournament games\n",
    "        if \"date\" in enriched_df.columns:\n",
    "            print(\"\\nAnalyzing game distribution by month to refine tournament identification:\")\n",
    "            monthly_games = enriched_df.with_columns(\n",
    "                pl.col(\"date\").str.slice(0, 7).alias(\"month_year\")\n",
    "            ).group_by(\"month_year\").agg(\n",
    "                pl.count().alias(\"game_count\")\n",
    "            ).sort(\"month_year\")\n",
    "            \n",
    "            print(\"Game counts by month-year (showing top 20):\")\n",
    "            display(monthly_games.head(20))\n",
    "        \n",
    "        # Let's create a visualization to compare regular season vs tournament performance\n",
    "        if regular_season_stats is not None:\n",
    "            print(\"\\nCreating visualizations to compare regular season and tournament performance...\")\n",
    "            \n",
    "            # Merge regular season and tournament stats\n",
    "            # Use common columns for team identity\n",
    "            reg_prefix = \"reg_\"\n",
    "            tourn_prefix = \"tourn_\"\n",
    "            \n",
    "            # Add prefixes to distinguish regular season from tournament stats\n",
    "            reg_stats = regular_season_stats.select(\n",
    "                [\"season\", \"team_id\", \"team_name\"] + \n",
    "                [pl.col(c).alias(f\"{reg_prefix}{c}\") for c in regular_season_stats.columns \n",
    "                 if c not in [\"season\", \"team_id\", \"team_name\"]]\n",
    "            )\n",
    "            \n",
    "            tourn_stats = tournament_stats.select(\n",
    "                [\"season\", \"team_id\", \"team_name\"] + \n",
    "                [pl.col(c).alias(f\"{tourn_prefix}{c}\") for c in tournament_stats.columns \n",
    "                 if c not in [\"season\", \"team_id\", \"team_name\"]]\n",
    "            )\n",
    "            \n",
    "            # Join the datasets\n",
    "            print(\"Joining regular season and tournament statistics...\")\n",
    "            combined_stats = reg_stats.join(\n",
    "                tourn_stats, \n",
    "                on=[\"season\", \"team_id\", \"team_name\"],\n",
    "                how=\"inner\"\n",
    "            )\n",
    "            \n",
    "            print(f\"Found {combined_stats.shape[0]} team-seasons with both regular season and tournament data\")\n",
    "            \n",
    "            if combined_stats.shape[0] > 0:\n",
    "                # Convert to pandas for visualization with plotly\n",
    "                combined_df = combined_stats.to_pandas()\n",
    "                \n",
    "                # Setup plotly for visualizations\n",
    "                import plotly.express as px\n",
    "                import plotly.graph_objects as go\n",
    "                from plotly.subplots import make_subplots\n",
    "                \n",
    "                # Create subplots layout\n",
    "                fig = make_subplots(\n",
    "                    rows=2, cols=2,\n",
    "                    subplot_titles=(\n",
    "                        \"Regular Season vs Tournament Win Percentage\",\n",
    "                        \"Regular Season vs Tournament Effective FG%\",\n",
    "                        \"Regular Season vs Tournament Assist/TO Ratio\",\n",
    "                        \"Regular Season vs Tournament Scoring Efficiency\"\n",
    "                    )\n",
    "                )\n",
    "                \n",
    "                # Example: Compare regular season win percentage to tournament win percentage\n",
    "                if f\"{reg_prefix}win_pct\" in combined_df.columns and f\"{tourn_prefix}win_pct\" in combined_df.columns:\n",
    "                    fig.add_trace(\n",
    "                        go.Scatter(\n",
    "                            x=combined_df[f\"{reg_prefix}win_pct\"],\n",
    "                            y=combined_df[f\"{tourn_prefix}win_pct\"],\n",
    "                            mode=\"markers\",\n",
    "                            marker=dict(opacity=0.6),\n",
    "                            name=\"Win Percentage\"\n",
    "                        ),\n",
    "                        row=1, col=1\n",
    "                    )\n",
    "                    \n",
    "                    # Add correlation annotation\n",
    "                    corr = combined_df[f\"{reg_prefix}win_pct\"].corr(combined_df[f\"{tourn_prefix}win_pct\"])\n",
    "                    fig.add_annotation(\n",
    "                        text=f\"Correlation: {corr:.2f}\",\n",
    "                        xref=\"x1\", yref=\"y1\",\n",
    "                        x=0.05, y=0.95, showarrow=False\n",
    "                    )\n",
    "                \n",
    "                # Compare effective field goal percentage\n",
    "                if f\"{reg_prefix}efg_pct_mean\" in combined_df.columns and f\"{tourn_prefix}efg_pct_mean\" in combined_df.columns:\n",
    "                    fig.add_trace(\n",
    "                        go.Scatter(\n",
    "                            x=combined_df[f\"{reg_prefix}efg_pct_mean\"],\n",
    "                            y=combined_df[f\"{tourn_prefix}efg_pct_mean\"],\n",
    "                            mode=\"markers\",\n",
    "                            marker=dict(opacity=0.6),\n",
    "                            name=\"Effective FG%\"\n",
    "                        ),\n",
    "                        row=1, col=2\n",
    "                    )\n",
    "                    \n",
    "                    # Add correlation annotation\n",
    "                    corr = combined_df[f\"{reg_prefix}efg_pct_mean\"].corr(combined_df[f\"{tourn_prefix}efg_pct_mean\"])\n",
    "                    fig.add_annotation(\n",
    "                        text=f\"Correlation: {corr:.2f}\",\n",
    "                        xref=\"x2\", yref=\"y2\",\n",
    "                        x=0.05, y=0.95, showarrow=False\n",
    "                    )\n",
    "                \n",
    "                # Compare assist to turnover ratio\n",
    "                if f\"{reg_prefix}ast_to_ratio_mean\" in combined_df.columns and f\"{tourn_prefix}ast_to_ratio_mean\" in combined_df.columns:\n",
    "                    fig.add_trace(\n",
    "                        go.Scatter(\n",
    "                            x=combined_df[f\"{reg_prefix}ast_to_ratio_mean\"],\n",
    "                            y=combined_df[f\"{tourn_prefix}ast_to_ratio_mean\"],\n",
    "                            mode=\"markers\",\n",
    "                            marker=dict(opacity=0.6),\n",
    "                            name=\"Assist/TO Ratio\"\n",
    "                        ),\n",
    "                        row=2, col=1\n",
    "                    )\n",
    "                    \n",
    "                    # Add correlation annotation\n",
    "                    corr = combined_df[f\"{reg_prefix}ast_to_ratio_mean\"].corr(combined_df[f\"{tourn_prefix}ast_to_ratio_mean\"])\n",
    "                    fig.add_annotation(\n",
    "                        text=f\"Correlation: {corr:.2f}\",\n",
    "                        xref=\"x3\", yref=\"y3\",\n",
    "                        x=0.05, y=0.95, showarrow=False\n",
    "                    )\n",
    "                \n",
    "                # Compare points per field goal attempt\n",
    "                if f\"{reg_prefix}points_per_fga_mean\" in combined_df.columns and f\"{tourn_prefix}points_per_fga_mean\" in combined_df.columns:\n",
    "                    fig.add_trace(\n",
    "                        go.Scatter(\n",
    "                            x=combined_df[f\"{reg_prefix}points_per_fga_mean\"],\n",
    "                            y=combined_df[f\"{tourn_prefix}points_per_fga_mean\"],\n",
    "                            mode=\"markers\",\n",
    "                            marker=dict(opacity=0.6),\n",
    "                            name=\"Points per FGA\"\n",
    "                        ),\n",
    "                        row=2, col=2\n",
    "                    )\n",
    "                    \n",
    "                    # Add correlation annotation\n",
    "                    corr = combined_df[f\"{reg_prefix}points_per_fga_mean\"].corr(combined_df[f\"{tourn_prefix}points_per_fga_mean\"])\n",
    "                    fig.add_annotation(\n",
    "                        text=f\"Correlation: {corr:.2f}\",\n",
    "                        xref=\"x4\", yref=\"y4\",\n",
    "                        x=0.05, y=0.95, showarrow=False\n",
    "                    )\n",
    "                \n",
    "                # Update layout\n",
    "                fig.update_layout(\n",
    "                    height=800,\n",
    "                    width=1000,\n",
    "                    title_text=\"Regular Season vs Tournament Performance Metrics\",\n",
    "                    showlegend=False\n",
    "                )\n",
    "                \n",
    "                # Set axis labels\n",
    "                fig.update_xaxes(title_text=\"Regular Season Win %\", row=1, col=1)\n",
    "                fig.update_yaxes(title_text=\"Tournament Win %\", row=1, col=1)\n",
    "                \n",
    "                fig.update_xaxes(title_text=\"Regular Season eFG%\", row=1, col=2)\n",
    "                fig.update_yaxes(title_text=\"Tournament eFG%\", row=1, col=2)\n",
    "                \n",
    "                fig.update_xaxes(title_text=\"Regular Season Assist/TO Ratio\", row=2, col=1)\n",
    "                fig.update_yaxes(title_text=\"Tournament Assist/TO Ratio\", row=2, col=1)\n",
    "                \n",
    "                fig.update_xaxes(title_text=\"Regular Season Points per FGA\", row=2, col=2)\n",
    "                fig.update_yaxes(title_text=\"Tournament Points per FGA\", row=2, col=2)\n",
    "                \n",
    "                fig.show()\n",
    "                \n",
    "                # Calculate correlations between regular season and tournament metrics\n",
    "                print(\"\\nCalculating correlations between regular season and tournament performance...\")\n",
    "                \n",
    "                # Identify pairs of metrics (regular season and tournament versions)\n",
    "                metric_pairs = []\n",
    "                for reg_col in combined_df.columns:\n",
    "                    if reg_col.startswith(reg_prefix):\n",
    "                        # Extract the base metric name\n",
    "                        base_metric = reg_col[len(reg_prefix):]\n",
    "                        tourn_col = f\"{tourn_prefix}{base_metric}\"\n",
    "                        \n",
    "                        # Check if both columns exist\n",
    "                        if tourn_col in combined_df.columns:\n",
    "                            metric_pairs.append((reg_col, tourn_col, base_metric))\n",
    "                \n",
    "                # Calculate correlations for each pair\n",
    "                correlations = []\n",
    "                for reg_col, tourn_col, metric_name in metric_pairs:\n",
    "                    # Skip non-numeric columns\n",
    "                    if combined_df[reg_col].dtype in ['float64', 'int64'] and combined_df[tourn_col].dtype in ['float64', 'int64']:\n",
    "                        corr = combined_df[reg_col].corr(combined_df[tourn_col])\n",
    "                        correlations.append((metric_name, corr))\n",
    "                \n",
    "                # Display top correlations\n",
    "                correlations.sort(key=lambda x: abs(x[1]), reverse=True)\n",
    "                print(\"\\nTop 15 metrics by correlation between regular season and tournament performance:\")\n",
    "                \n",
    "                # Using plotly table for correlation display\n",
    "                import pandas as pd\n",
    "                correlation_df = pd.DataFrame(correlations[:15], columns=[\"Metric\", \"Correlation\"])\n",
    "                display(correlation_df)\n",
    "                \n",
    "                # Create correlation heatmap of key metrics using plotly\n",
    "                key_metrics = [\n",
    "                    \"win_pct\", \"team_score_mean\", \"win_margin_mean\", \"efg_pct_mean\", \n",
    "                    \"ts_pct_mean\", \"ast_to_ratio_mean\", \"net_possessions_mean\",\n",
    "                    \"points_per_fga_mean\", \"oreb_rate_mean\"\n",
    "                ]\n",
    "                \n",
    "                # Filter to metrics that exist in the dataset\n",
    "                valid_metrics = []\n",
    "                for metric in key_metrics:\n",
    "                    reg_metric = f\"{reg_prefix}{metric}\"\n",
    "                    tourn_metric = f\"{tourn_prefix}{metric}\"\n",
    "                    if reg_metric in combined_df.columns and tourn_metric in combined_df.columns:\n",
    "                        valid_metrics.append(metric)\n",
    "                \n",
    "                if valid_metrics:\n",
    "                    # Extract just the key metrics for the heatmap\n",
    "                    heatmap_data = pd.DataFrame()\n",
    "                    for metric in valid_metrics:\n",
    "                        heatmap_data[f\"reg_{metric}\"] = combined_df[f\"{reg_prefix}{metric}\"]\n",
    "                        heatmap_data[f\"tourn_{metric}\"] = combined_df[f\"{tourn_prefix}{metric}\"]\n",
    "                    \n",
    "                    # Create correlation matrix\n",
    "                    corr_matrix = heatmap_data.corr()\n",
    "                    \n",
    "                    # Create heatmap with plotly\n",
    "                    heatmap_fig = px.imshow(\n",
    "                        corr_matrix,\n",
    "                        text_auto=True,\n",
    "                        color_continuous_scale='RdBu_r',\n",
    "                        zmin=-1, zmax=1,\n",
    "                        title=\"Correlation Heatmap of Key Metrics\"\n",
    "                    )\n",
    "                    \n",
    "                    heatmap_fig.update_layout(\n",
    "                        height=800,\n",
    "                        width=900,\n",
    "                    )\n",
    "                    \n",
    "                    heatmap_fig.show()\n",
    "            else:\n",
    "                print(\"No team-seasons with both regular season and tournament data found\")\n",
    "    \n",
    "except Exception as e:\n",
    "    logger.error(f\"Error calculating tournament stats: {e}\")\n",
    "    print(f\"Error details: {e}\")\n",
    "    import traceback\n",
    "    traceback.print_exc()"
   ]
  },
  {
   "cell_type": "markdown",
   "metadata": {},
   "source": [
    "# Summary of Regular Season vs. Tournament Performance Analysis\n",
    "\n",
    "## Key Findings from Correlation Analysis\n",
    "\n",
    "The correlation analysis reveals which regular season metrics are most predictive of tournament performance:\n",
    "\n",
    "### Strongest Predictors (Correlation > 0.45)\n",
    "- **Three-point field goals attempted** (0.53) - Teams maintain consistent three-point shooting volume in tournaments\n",
    "- **Total rebounds** (0.49) - Rebounding consistency translates well to tournament play\n",
    "- **Pace of play** (0.48) - Teams tend to maintain their tempo from regular season to tournament\n",
    "- **Fouls committed** (0.47) - Defensive discipline (or lack thereof) carries over\n",
    "\n",
    "### Moderate Predictors (Correlation 0.35-0.45)\n",
    "- **Three-point shooting** (makes and points) (0.42) - Shooting proficiency shows some consistency\n",
    "- **Offensive rebounds** (0.38) - Offensive rebounding ability remains somewhat consistent\n",
    "- **Blocks** (0.33) - Defensive presence around the rim shows moderate carryover\n",
    "\n",
    "### Weaker Relationships\n",
    "Our scatter plots show that efficiency metrics have lower correlations:\n",
    "- Effective field goal percentage (0.27)\n",
    "- Points per field goal attempt (0.24)\n",
    "- Assist-to-turnover ratio (0.23)\n",
    "\n",
    "## Tournament Success Indicators\n",
    "\n",
    "The correlation heatmap shows interesting relationships between metrics:\n",
    "1. Strong correlation between scoring metrics (team_score_mean) and winning metrics (win_pct)\n",
    "2. Efficiency metrics (efg_pct, ts_pct) correlate with each other but have moderate correlation with win percentage\n",
    "3. Tournament scoring efficiency appears to be somewhat independent of regular season values\n",
    "\n",
    "## Implications for March Madness Prediction\n",
    "\n",
    "For building a predictive model for tournament success, these findings suggest:\n",
    "\n",
    "1. **Volume statistics matter more than efficiency**: Three-point volume, rebounding, and pace show stronger consistency between regular season and tournament play than efficiency metrics.\n",
    "\n",
    "2. **Style persistence**: Teams largely maintain their playing style (pace, shooting volume, rebounding approach) in tournaments.\n",
    "\n",
    "3. **Efficiency variability**: The weaker correlation in efficiency metrics suggests tournament efficiency can vary significantly from regular season performance - possibly due to stronger competition, pressure, or matchup factors.\n",
    "\n",
    "4. **Defensive indicators**: Both fouls and blocks show meaningful correlation, suggesting defensive characteristics translate to tournament play.\n",
    "\n",
    "## Next Steps\n",
    "\n",
    "For prediction models, we should:\n",
    "- Focus on regular season volume metrics as more reliable predictors of tournament performance\n",
    "- Investigate if certain team styles maintain consistency better in tournament play\n",
    "- Consider defensive metrics as important predictors of tournament success\n",
    "- Explore how specific matchups might affect the variability in efficiency metrics"
   ]
  }
 ],
 "metadata": {
  "kernelspec": {
   "display_name": ".venv",
   "language": "python",
   "name": "python3"
  },
  "language_info": {
   "codemirror_mode": {
    "name": "ipython",
    "version": 3
   },
   "file_extension": ".py",
   "mimetype": "text/x-python",
   "name": "python",
   "nbconvert_exporter": "python",
   "pygments_lexer": "ipython3",
   "version": "3.11.11"
  }
 },
 "nbformat": 4,
 "nbformat_minor": 2
}
